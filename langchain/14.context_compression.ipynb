{
 "cells": [
  {
   "cell_type": "markdown",
   "metadata": {},
   "source": [
    "## Context Compression"
   ]
  },
  {
   "cell_type": "code",
   "execution_count": 7,
   "metadata": {},
   "outputs": [],
   "source": [
    "from langchain_ollama import OllamaEmbeddings\n",
    "from langchain_community.vectorstores.chroma import Chroma\n",
    "from langchain_community.document_loaders import WebBaseLoader\n",
    "from langchain.text_splitter import RecursiveCharacterTextSplitter\n",
    "from langchain.retrievers import ContextualCompressionRetriever\n",
    "from langchain.retrievers.document_compressors import LLMChainExtractor\n",
    "\n",
    "\n",
    "from llm_client import get_model"
   ]
  },
  {
   "cell_type": "markdown",
   "metadata": {},
   "source": [
    "1. 通过文档加载器加载文档，并对文档进行分割"
   ]
  },
  {
   "cell_type": "code",
   "execution_count": 5,
   "metadata": {},
   "outputs": [],
   "source": [
    "loader = WebBaseLoader(\"https://app.xinhuanet.com/news/article.html?articleId=cf58e389142893239ff9e986e7a3e06a\")\n",
    "docs = loader.load()\n",
    "spliter = RecursiveCharacterTextSplitter(chunk_size=2000, chunk_overlap=20)\n",
    "chunks = spliter.split_documents(docs)\n",
    "query = \"马拉松的经济价值\""
   ]
  },
  {
   "cell_type": "markdown",
   "metadata": {},
   "source": [
    "2. 声明基于Chroma的向量存储，使用LLAMA构建一个文档压缩器"
   ]
  },
  {
   "cell_type": "code",
   "execution_count": 11,
   "metadata": {},
   "outputs": [],
   "source": [
    "vs = Chroma.from_documents(chunks, OllamaEmbeddings(model = \"llama2-chinese\"))\n",
    "\n",
    "llm = get_model('llama')\n",
    "compressor = LLMChainExtractor.from_llm(llm)\n",
    "\n",
    "compression_retriever = ContextualCompressionRetriever(\n",
    "    base_compressor = compressor,\n",
    "    base_retriever = vs.as_retriever()\n",
    ")"
   ]
  },
  {
   "cell_type": "markdown",
   "metadata": {},
   "source": [
    "3.对上下文进行压缩并输出结果"
   ]
  },
  {
   "cell_type": "code",
   "execution_count": 12,
   "metadata": {},
   "outputs": [
    {
     "data": {
      "text/plain": [
       "[Document(metadata={'description': '中国马拉松产业观察：跑出来的消费转型，赛出来的城市活力----新华网北京1月7日电（侯大伟 李旭）一年消费总规模超133亿元、单个赛事报名人数达450744人……日前刚刚结束的中国马拉松博览会上，多组数据让行业备受鼓舞；近期相关赛事的报名数据更是将以马拉松为代表的中国路跑运动送上热点。45万+的报名人数虽属罕见，但整个2024年，动辄20万+的报名数字在国内头部马拉松赛事中已屡见不鲜。 2014年，《国务院关于加快发展体育产业促进体育消费的若干意见》颁布，自此，以马拉松为代表的中国路跑运动迎来黄金十年，不断倍增的报名人数成为“跑马热”最直观的印证。“周末两眼一睁就是马拉松，朋友圈被越来越多去全国各地参赛的跑友‘刷屏’了！”来自北京的跑者王鹏表示。 中国马拉松官网数据显示，2024年，全国共举办路跑赛事671场，参赛人次约656万。赛事分布范围涵盖了全国31个省级行政区，261个市，537个区县。仅2024年11月，国内就有114场赛事鸣枪举办，其中1', 'language': 'zh', 'source': 'https://app.xinhuanet.com/news/article.html?articleId=cf58e389142893239ff9e986e7a3e06a', 'title': '中国马拉松产业观察：跑出来的消费转型，赛出来的城市活力 - 新华网客户端'}, page_content='1. 地方政府办赛的主动布局和积极发力，都能够加速马拉松赛事经济效益的放大。\\n2. 相对于其他类型城市举办的路跑赛事，马拉松赛事平均收入远高，显示“马拉松经济效益”已成为新风尚。\\n3. 文体旅商农产业融合发展也在取得一定的成果，同时“马拉松+旅行”这种消费模式被广泛应用。\\n4. 与此同时，地方政府和主办事务机构要注意避免“内卷”，不让马拉松赛事成为“千城一面”的现象。'),\n",
       " Document(metadata={'description': '中国马拉松产业观察：跑出来的消费转型，赛出来的城市活力----新华网北京1月7日电（侯大伟 李旭）一年消费总规模超133亿元、单个赛事报名人数达450744人……日前刚刚结束的中国马拉松博览会上，多组数据让行业备受鼓舞；近期相关赛事的报名数据更是将以马拉松为代表的中国路跑运动送上热点。45万+的报名人数虽属罕见，但整个2024年，动辄20万+的报名数字在国内头部马拉松赛事中已屡见不鲜。 2014年，《国务院关于加快发展体育产业促进体育消费的若干意见》颁布，自此，以马拉松为代表的中国路跑运动迎来黄金十年，不断倍增的报名人数成为“跑马热”最直观的印证。“周末两眼一睁就是马拉松，朋友圈被越来越多去全国各地参赛的跑友‘刷屏’了！”来自北京的跑者王鹏表示。 中国马拉松官网数据显示，2024年，全国共举办路跑赛事671场，参赛人次约656万。赛事分布范围涵盖了全国31个省级行政区，261个市，537个区县。仅2024年11月，国内就有114场赛事鸣枪举办，其中1', 'language': 'zh', 'source': 'https://app.xinhuanet.com/news/article.html?articleId=cf58e389142893239ff9e986e7a3e06a', 'title': '中国马拉松产业观察：跑出来的消费转型，赛出来的城市活力 - 新华网客户端'}, page_content='马拉松的经济价值\\n新华网政企服务平台特邀入驻\\n\"我为群众办实事\"网络平台\\n法律说吧｜聚焦中小企业合规发展\\n暖视频：总有感动在身边'),\n",
       " Document(metadata={'description': '中国马拉松产业观察：跑出来的消费转型，赛出来的城市活力----新华网北京1月7日电（侯大伟 李旭）一年消费总规模超133亿元、单个赛事报名人数达450744人……日前刚刚结束的中国马拉松博览会上，多组数据让行业备受鼓舞；近期相关赛事的报名数据更是将以马拉松为代表的中国路跑运动送上热点。45万+的报名人数虽属罕见，但整个2024年，动辄20万+的报名数字在国内头部马拉松赛事中已屡见不鲜。 2014年，《国务院关于加快发展体育产业促进体育消费的若干意见》颁布，自此，以马拉松为代表的中国路跑运动迎来黄金十年，不断倍增的报名人数成为“跑马热”最直观的印证。“周末两眼一睁就是马拉松，朋友圈被越来越多去全国各地参赛的跑友‘刷屏’了！”来自北京的跑者王鹏表示。 中国马拉松官网数据显示，2024年，全国共举办路跑赛事671场，参赛人次约656万。赛事分布范围涵盖了全国31个省级行政区，261个市，537个区县。仅2024年11月，国内就有114场赛事鸣枪举办，其中1', 'language': 'zh', 'source': 'https://app.xinhuanet.com/news/article.html?articleId=cf58e389142893239ff9e986e7a3e06a', 'title': '中国马拉松产业观察：跑出来的消费转型，赛出来的城市活力 - 新华网客户端'}, page_content='- 体育旅游的搜索热度增长87%，户外运动参与人数同比增长19%。\\n- 马拉松、骑行等户外赛事带来的“流量”，亦是城市旅游的“留量”，同时也是拉动当地文旅产业发展的增量。\\n- 一场大型城市马拉松赛事带动的经济效益可达6-7亿元。')]"
      ]
     },
     "execution_count": 12,
     "metadata": {},
     "output_type": "execute_result"
    }
   ],
   "source": [
    "compression_retriever.get_relevant_documents(query)"
   ]
  }
 ],
 "metadata": {
  "kernelspec": {
   "display_name": "wrenv3.10",
   "language": "python",
   "name": "python3"
  },
  "language_info": {
   "codemirror_mode": {
    "name": "ipython",
    "version": 3
   },
   "file_extension": ".py",
   "mimetype": "text/x-python",
   "name": "python",
   "nbconvert_exporter": "python",
   "pygments_lexer": "ipython3",
   "version": "3.10.16"
  }
 },
 "nbformat": 4,
 "nbformat_minor": 2
}
