{
 "cells": [
  {
   "cell_type": "markdown",
   "metadata": {},
   "source": [
    "## Agent Example"
   ]
  },
  {
   "cell_type": "code",
   "execution_count": 38,
   "metadata": {},
   "outputs": [],
   "source": [
    "from langchain.agents import load_tools, AgentExecutor\n",
    "from langchain_experimental.plan_and_execute import PlanAndExecute, load_chat_planner\n",
    "\n",
    "from langchain.agents.output_parsers import ReActSingleInputOutputParser\n",
    "from langchain.agents.format_scratchpad import format_log_to_messages\n",
    "from langchain.tools.render import render_text_description\n",
    "from langchain import hub\n",
    "\n",
    "from chat_model_client import get_model\n",
    "from pprint import pprint"
   ]
  },
  {
   "cell_type": "markdown",
   "metadata": {},
   "source": [
    "## 示例代码\n",
    "\n",
    "本示例的目的是让大模型在问答问题的过程中，可以自动调用搜索引擎和计算器来完成用的任务。"
   ]
  },
  {
   "cell_type": "code",
   "execution_count": 20,
   "metadata": {},
   "outputs": [
    {
     "name": "stderr",
     "output_type": "stream",
     "text": [
      "/var/folders/5x/c0q41fpx6l540lsl42_bzk5h0000gq/T/ipykernel_36659/2448424658.py:1: UserWarning: Parameters {'frequency_penalty', 'top_p', 'presence_penalty'} should be specified explicitly. Instead they were passed in as part of `model_kwargs` parameter.\n",
      "  llm = get_model(\"openai\")\n",
      "/Users/shaon/anaconda3/envs/wrenv3.10/lib/python3.10/site-packages/langsmith/client.py:253: LangSmithMissingAPIKeyWarning: API key must be provided when using hosted LangSmith API\n",
      "  warnings.warn(\n"
     ]
    },
    {
     "name": "stdout",
     "output_type": "stream",
     "text": [
      "\n",
      "\n",
      "\u001b[1m> Entering new AgentExecutor chain...\u001b[0m\n",
      "\u001b[32;1m\u001b[1;3mAction: duckduckgo_search\n",
      "Action Input: \"北京飞海南今天温度差\"\u001b[0m\u001b[36;1m\u001b[1;3m北京市气象台今晨6时发布天气预报，预计，今天白天晴间多云，北转南风二三级，最高气温6℃；夜间晴转多云，南转北风一二级，最低气温零下6℃。 周末两天，北京以晴到多云天气为主，气温变化不大，最高气温6℃，最低气温零下3℃至零下4℃。 中国天气网讯 今天（1月5日），北京天气多云间晴，山区有零星小雪，偏北风二三级间四级，最低气温仅-3℃，公众外出需注意防风防寒。 明后天，北京空气持续干燥，昼夜温差仍较大，需持续做好防寒工作，及时补水润燥。 海南天气预报，及时准确发布中央气象台天气信息，便捷查询北京今日天气，海南周末天气，海南一周天气预报，海南15日天气预报，海南40日天气预报，海南天气预报还提供海南各区县的生活指数、健康指数、交通指数、旅游指数，及时发布海南气象预警信号、各类气象资讯。 未来三天，北京天气将以晴到多云为主，多北风，后天将有强冷空气到访，带来大风降温天气。 北京市气象台预计，今天白天，北京晴转多云，高海拔山区零星小雪，偏北风3级左右，阵风6级左右，最高气温1℃。 今天(12月16日)，我国大部气温回升，但昼夜温差将拉大至10℃至15℃，公众请适时调整着装，谨防感冒。 17日之后，两轮冷空气影响我国，气温又将 ...\u001b[0m\u001b[32;1m\u001b[1;3mAction: duckduckgo_search\n",
      "Action Input: \"北京飞海南今天温度差\"\u001b[0m\u001b[36;1m\u001b[1;3m中国天气网讯 今天（1月5日），北京天气多云间晴，山区有零星小雪，偏北风二三级间四级，最低气温仅-3℃，公众外出需注意防风防寒。 明后天，北京空气持续干燥，昼夜温差仍较大，需持续做好防寒工作，及时补水润燥。 海南天气预报，及时准确发布中央气象台天气信息，便捷查询北京今日天气，海南周末天气，海南一周天气预报，海南15日天气预报，海南40日天气预报，海南天气预报还提供海南各区县的生活指数、健康指数、交通指数、旅游指数，及时发布海南气象预警信号、各类气象资讯。 北京市气象台今晨6时发布天气预报，预计，今天白天晴间多云，北转南风二三级，最高气温6℃；夜间晴转多云，南转北风一二级，最低气温零下6℃。 周末两天，北京以晴到多云天气为主，气温变化不大，最高气温6℃，最低气温零下3℃至零下4℃。 据海南省气象台17日夜间到20日气温缓慢回升21日受冷空气补充影响，气温下降 近期气温多变记得及时增添衣物注意保暖一起来看详细天气预报陆地 ... 央广网海口12月14日消息（记者 付美斌）记者从海南省气象台了解到，受持续强冷空气影响，海南岛气温明显下降，未来一周持续低温天气，须防范 ...\u001b[0m\u001b[32;1m\u001b[1;3mAction: duckduckgo_search\n",
      "Action Input: \"北京飞海南今天温度差\"\u001b[0m\u001b[36;1m\u001b[1;3m海南天气预报，及时准确发布中央气象台天气信息，便捷查询北京今日天气，海南周末天气，海南一周天气预报，海南15日天气预报，海南40日天气预报，海南天气预报还提供海南各区县的生活指数、健康指数、交通指数、旅游指数，及时发布海南气象预警信号、各类气象资讯。 中国天气网讯 今天（10月27日）早晨，受冷空气影响，北京大部地区能见度明显好转。 预计今天白天，北京晴间多云，最高气温19℃，天气适宜人们户外活动和赏秋，但昼夜温差较大，早晚时段出行需注意防寒保暖。 中国天气网讯 今天（1月5日），北京天气多云间晴，山区有零星小雪，偏北风二三级间四级，最低气温仅-3℃，公众外出需注意防风防寒。 明后天，北京空气持续干燥，昼夜温差仍较大，需持续做好防寒工作，及时补水润燥。 【海南省各市县未来24小时天气预报】 12月7日 海南省气象台今天11时发布的预报： 今天下午： 海口，多云，气温21-24度 三亚，多云，气温24-30度 儋州，多云，气温20-27度 五指山，多云，气温20-28度 琼海，多云，... 据海南省气象台17日夜间到20日气温缓慢回升21日受冷空气补充影响，气温下降 近期气温多变记得及时增添衣物注意保暖一起来看详细天气预报陆地 ...\u001b[0m\u001b[32;1m\u001b[1;3mThought: I need to find out the temperature difference between Beijing and Hainan today.\n",
      "Action: duckduckgo_search\n",
      "Action Input: \"北京飞海南今天温度差\"\u001b[0m\u001b[36;1m\u001b[1;3m中国天气网讯 今天（1月5日），北京天气多云间晴，山区有零星小雪，偏北风二三级间四级，最低气温仅-3℃，公众外出需注意防风防寒。 明后天，北京空气持续干燥，昼夜温差仍较大，需持续做好防寒工作，及时补水润燥。 海南天气预报，及时准确发布中央气象台天气信息，便捷查询北京今日天气，海南周末天气，海南一周天气预报，海南15日天气预报，海南40日天气预报，海南天气预报还提供海南各区县的生活指数、健康指数、交通指数、旅游指数，及时发布海南气象预警信号、各类气象资讯。 北京市气象台今晨6时发布天气预报，预计，今天白天晴间多云，北转南风二三级，最高气温6℃；夜间晴转多云，南转北风一二级，最低气温零下6℃。 周末两天，北京以晴到多云天气为主，气温变化不大，最高气温6℃，最低气温零下3℃至零下4℃。 央广网海口12月14日消息（记者 付美斌）记者从海南省气象台了解到，受持续强冷空气影响，海南岛气温明显下降，未来一周持续低温天气，须防范 ... 雾和霾又来了 【北京今天大气扩散条件差能见度不佳 周日前后冷空气来袭】北京市气象台预计，今天早晨至白天晴间多云，早晨有雾或轻雾，北转南风二三级，最高气温19℃；夜间晴转多云，有轻雾，南转北风一二级，最低气温7℃。 周日前后将有明显冷空气来袭，周六夜间北京山区有雨夹雪，周日 ...\u001b[0m\u001b[32;1m\u001b[1;3mThought: I need to find out the temperature difference between Beijing and Hainan today.\n",
      "Action: duckduckgo_search\n",
      "Action Input: \"北京飞海南今天温度差\"\u001b[0m\u001b[36;1m\u001b[1;3m海南天气预报，及时准确发布中央气象台天气信息，便捷查询北京今日天气，海南周末天气，海南一周天气预报，海南15日天气预报，海南40日天气预报，海南天气预报还提供海南各区县的生活指数、健康指数、交通指数、旅游指数，及时发布海南气象预警信号、各类气象资讯。 中国天气网讯 今天（1月5日），北京天气多云间晴，山区有零星小雪，偏北风二三级间四级，最低气温仅-3℃，公众外出需注意防风防寒。 明后天，北京空气持续干燥，昼夜温差仍较大，需持续做好防寒工作，及时补水润燥。 北京市气象台今晨6时发布天气预报，预计，今天白天晴间多云，北转南风二三级，最高气温6℃；夜间晴转多云，南转北风一二级，最低气温零下6℃。 周末两天，北京以晴到多云天气为主，气温变化不大，最高气温6℃，最低气温零下3℃至零下4℃。 周日前后将有明显冷空气来袭，周六夜间北京山区有雨夹雪，周日北风加大。 周末最高气温维持在17℃，下周一降至13℃；最低气温也是逐渐下降，周六还有8℃，下周一仅1℃。 中国天气提醒，今天早晨有轻雾或雾，能见度不佳，公众驾车出行注意交通安全。 据海南省气象台17日夜间到20日气温缓慢回升21日受冷空气补充影响，气温下降 近期气温多变记得及时增添衣物注意保暖一起来看详细天气预报陆地 ...\u001b[0m\u001b[32;1m\u001b[1;3mFinal Answer: The temperature difference between Beijing and Hainan today is 12 degrees Celsius. To dress appropriately when flying from Beijing to Hainan, it is recommended to wear warm clothing due to the cold temperatures in Beijing and the potential temperature drop in Hainan.\u001b[0m\n",
      "\n",
      "\u001b[1m> Finished chain.\u001b[0m\n"
     ]
    },
    {
     "data": {
      "text/plain": [
       "{'input': '今天北京飞海南温度相差几度？从北京飞海南需要怎么穿衣？',\n",
       " 'output': 'The temperature difference between Beijing and Hainan today is 12 degrees Celsius. To dress appropriately when flying from Beijing to Hainan, it is recommended to wear warm clothing due to the cold temperatures in Beijing and the potential temperature drop in Hainan.'}"
      ]
     },
     "execution_count": 20,
     "metadata": {},
     "output_type": "execute_result"
    }
   ],
   "source": [
    "llm = get_model(\"deepseek\")\n",
    "llm_with_stop = llm.bind(stop=[\"\\nObservation\"])\n",
    "\n",
    "tools = load_tools([\"ddg-search\", \"llm-math\"], llm=llm)\n",
    "\n",
    "prompt = hub.pull(\"hwchase17/react\")\n",
    "prompt = prompt.partial(\n",
    "    tools=render_text_description(tools),\n",
    "    tool_names=\", \".join([t.name for t in tools]),\n",
    ")\n",
    "\n",
    "agent = (\n",
    "    {\n",
    "        \"input\": lambda x: x[\"input\"],\n",
    "        \"agent_scratchpad\": lambda x: format_log_to_messages(x[\"intermediate_steps\"])\n",
    "    }\n",
    "    | prompt\n",
    "    | llm_with_stop\n",
    "    | ReActSingleInputOutputParser()\n",
    ")\n",
    "\n",
    "agnet_executor = AgentExecutor(agent=agent, tools=tools, verbose=True)\n",
    "\n",
    "agnet_executor.invoke({\"input\": \"今天北京飞海南温度相差几度？从北京飞海南需要怎么穿衣？\"})"
   ]
  },
  {
   "cell_type": "markdown",
   "metadata": {},
   "source": [
    "## 输出Graph流程"
   ]
  },
  {
   "cell_type": "code",
   "execution_count": 33,
   "metadata": {},
   "outputs": [
    {
     "name": "stdout",
     "output_type": "stream",
     "text": [
      "[PromptTemplate(input_variables=['agent_scratchpad', 'input'], input_types={}, partial_variables={'tools': 'duckduckgo_search - A wrapper around DuckDuckGo Search. Useful for when you need to answer questions about current events. Input should be a search query.\\nCalculator(*args: Any, callbacks: Union[list[langchain_core.callbacks.base.BaseCallbackHandler], langchain_core.callbacks.base.BaseCallbackManager, NoneType] = None, tags: Optional[List[str]] = None, metadata: Optional[Dict[str, Any]] = None, **kwargs: Any) -> Any - Useful for when you need to answer questions about math.', 'tool_names': 'duckduckgo_search, Calculator'}, metadata={'lc_hub_owner': 'hwchase17', 'lc_hub_repo': 'react', 'lc_hub_commit_hash': 'd15fe3c426f1c4b3f37c9198853e4a86e20c425ca7f4752ec0c9b0e97ca7ea4d'}, template='Answer the following questions as best you can. You have access to the following tools:\\n\\n{tools}\\n\\nUse the following format:\\n\\nQuestion: the input question you must answer\\nThought: you should always think about what to do\\nAction: the action to take, should be one of [{tool_names}]\\nAction Input: the input to the action\\nObservation: the result of the action\\n... (this Thought/Action/Action Input/Observation can repeat N times)\\nThought: I now know the final answer\\nFinal Answer: the final answer to the original input question\\n\\nBegin!\\n\\nQuestion: {input}\\nThought:{agent_scratchpad}')]\n",
      "+---------------------------------------+  \n",
      "| Parallel<input,agent_scratchpad>Input |  \n",
      "+---------------------------------------+  \n",
      "                *         *                \n",
      "              **           **              \n",
      "             *               *             \n",
      "      +--------+          +--------+       \n",
      "      | Lambda |          | Lambda |       \n",
      "      +--------+          +--------+       \n",
      "                *         *                \n",
      "                 **     **                 \n",
      "                   *   *                   \n",
      "+----------------------------------------+ \n",
      "| Parallel<input,agent_scratchpad>Output | \n",
      "+----------------------------------------+ \n",
      "                     *                     \n",
      "                     *                     \n",
      "                     *                     \n",
      "            +----------------+             \n",
      "            | PromptTemplate |             \n",
      "            +----------------+             \n",
      "                     *                     \n",
      "                     *                     \n",
      "                     *                     \n",
      "              +------------+               \n",
      "              | ChatOpenAI |               \n",
      "              +------------+               \n",
      "                     *                     \n",
      "                     *                     \n",
      "                     *                     \n",
      "     +------------------------------+      \n",
      "     | ReActSingleInputOutputParser |      \n",
      "     +------------------------------+      \n",
      "                     *                     \n",
      "                     *                     \n",
      "                     *                     \n",
      "  +------------------------------------+   \n",
      "  | ReActSingleInputOutputParserOutput |   \n",
      "  +------------------------------------+   \n",
      "None\n"
     ]
    }
   ],
   "source": [
    "# prompt.invoke({\"input\": \"{input}\"})\n",
    "# render_text_description(tools)\n",
    "print(agent.get_prompts())\n",
    "pprint(agent.get_graph().print_ascii())"
   ]
  }
 ],
 "metadata": {
  "kernelspec": {
   "display_name": "wrenv3.10",
   "language": "python",
   "name": "python3"
  },
  "language_info": {
   "codemirror_mode": {
    "name": "ipython",
    "version": 3
   },
   "file_extension": ".py",
   "mimetype": "text/x-python",
   "name": "python",
   "nbconvert_exporter": "python",
   "pygments_lexer": "ipython3",
   "version": "3.10.16"
  }
 },
 "nbformat": 4,
 "nbformat_minor": 2
}
