{
 "cells": [
  {
   "cell_type": "markdown",
   "metadata": {},
   "source": [
    "## Index Api"
   ]
  },
  {
   "cell_type": "markdown",
   "metadata": {},
   "source": [
    "index函数允许将来自任何来源的文档加载并保持同步到矢量存储中，可有效地避免将重复的内容写入向量数据库。\n",
    "\n",
    "将文档索引到向量存储中时，可能会清理向量存储中的一些现有文档。在某些情况下，您可能希望清理与正在编辑索引的新文档派生自相同来源的任何现有文档。在其他情况下，您可能希望批量清理所有现有文档。index函数清理模式允许您选择所需的行为：\n",
    "|模式\t|内容去重\t|并行处理\t|删除源文档\t|清理派生文档\t|清理时机|特性|适用范围|\n",
    "| --- | --- | --- | --- | --- | --- | --- | --- |\n",
    "|None\t|✅\t|✅\t|❌\t|❌\t|-| 允许重复内容|适合静态文档集|\n",
    "|Incremental\t|✅\t|✅\t|❌\t|✅\t|持续| 实时清理变更文档|适合频繁更新的文档|\n",
    "|Full\t|✅\t|❌\t|✅\t|✅\t|批次结束| 批次结束后彻底清理|适合定期全面更新|\n",
    "|Scoped_Full\t|✅\t|✅\t|❌\t|✅\t|批次结束| 类似 Full 模式,保留并行处理能力|精确清理当前批次相关文档|\n"
   ]
  },
  {
   "cell_type": "code",
   "execution_count": 35,
   "metadata": {},
   "outputs": [],
   "source": [
    "from langchain.indexes import index, SQLRecordManager\n",
    "from langchain_core.documents import Document\n",
    "from langchain_chroma import Chroma\n",
    "from langchain_ollama import OllamaEmbeddings\n",
    "\n",
    "import os\n",
    "root_dir = os.path.abspath('..')"
   ]
  },
  {
   "cell_type": "markdown",
   "metadata": {},
   "source": [
    "## 1. 准备embeddings及存储器"
   ]
  },
  {
   "cell_type": "code",
   "execution_count": 17,
   "metadata": {},
   "outputs": [],
   "source": [
    "embeddings = OllamaEmbeddings(model=\"llama2-chinese\")\n",
    "\n",
    "vectorstore = Chroma(\n",
    "    persist_directory=os.path.abspath(f\"{root_dir}/databases/\"),\n",
    "    embedding_function=embeddings,\n",
    "    collection_name=\"test_index\"\n",
    ")\n",
    "\n",
    "namespace = f\"chroma/test_index\"\n",
    "record_manager = SQLRecordManager(\n",
    "    namespace=namespace,\n",
    "    db_url=\"sqlite+pysqlite:///\" + os.path.abspath(f\"{root_dir}/databases/index.db\")\n",
    ")\n",
    "# 初始化表结构\n",
    "record_manager.create_schema()"
   ]
  },
  {
   "cell_type": "markdown",
   "metadata": {},
   "source": [
    "## 2. 声明文档内容"
   ]
  },
  {
   "cell_type": "code",
   "execution_count": 18,
   "metadata": {},
   "outputs": [],
   "source": [
    "doc1 = Document(page_content=\"A cute kitty\", metadata={\"source\": \"kitty.txt\"})\n",
    "doc2 = Document(page_content=\"A cute panda\", metadata={\"source\": \"panda.txt\"})\n",
    "doc3 = Document(page_content=\"A cute cat\", metadata={\"source\": \"cat.txt\"})\n",
    "doc4 = Document(page_content=\"A cute dog\", metadata={\"source\": \"dog.txt\"})\n",
    "\n",
    "def _clear():\n",
    "    \"\"\"利用完全删除模式的特性清理文档：未传递文档给索引，存在于向量存储中的所有文档都将被删除\"\"\"\n",
    "    index([], record_manager, vectorstore, cleanup=\"full\", source_id_key=\"source\")"
   ]
  },
  {
   "cell_type": "markdown",
   "metadata": {},
   "source": [
    "## 3.None模式（无删除模式）"
   ]
  },
  {
   "cell_type": "code",
   "execution_count": 51,
   "metadata": {},
   "outputs": [
    {
     "name": "stdout",
     "output_type": "stream",
     "text": [
      "有重复文档 {'num_added': 2, 'num_updated': 0, 'num_skipped': 0, 'num_deleted': 0}\n",
      "三个不同文档 {'num_added': 1, 'num_updated': 0, 'num_skipped': 2, 'num_deleted': 0}\n",
      "再次索引相同文档 {'num_added': 0, 'num_updated': 0, 'num_skipped': 3, 'num_deleted': 0}\n",
      "不提供文档 {'num_added': 0, 'num_updated': 0, 'num_skipped': 0, 'num_deleted': 0}\n",
      "文档变更 {'num_added': 1, 'num_updated': 0, 'num_skipped': 0, 'num_deleted': 0}\n"
     ]
    }
   ],
   "source": [
    "_clear()\n",
    "# 有重复文档\n",
    "ir = index(\n",
    "    [doc1, doc1, doc2],\n",
    "    record_manager,\n",
    "    vectorstore,\n",
    "    cleanup=None,\n",
    "    source_id_key=\"source\"\n",
    ")\n",
    "print(\"有重复文档\", ir)\n",
    "\n",
    "# 三个不同文档\n",
    "ir = index(\n",
    "    [doc1, doc2, doc3],\n",
    "    record_manager,\n",
    "    vectorstore,\n",
    "    cleanup=None,\n",
    "    source_id_key=\"source\"\n",
    ")\n",
    "print(\"三个不同文档\", ir)\n",
    "\n",
    "# 再次索引相同文档\n",
    "ir = index(\n",
    "    [doc1, doc2, doc3],\n",
    "    record_manager,\n",
    "    vectorstore,\n",
    "    cleanup=None,\n",
    "    source_id_key=\"source\"\n",
    ")\n",
    "print(\"再次索引相同文档\", ir)\n",
    "\n",
    "# 不提供文档\n",
    "ir = index(\n",
    "    [],\n",
    "    record_manager,\n",
    "    vectorstore,\n",
    "    cleanup=None,\n",
    "    source_id_key=\"source\"\n",
    ")\n",
    "print(\"不提供文档\", ir)\n",
    "\n",
    "# 使用增量删除模式，只删除变量的旧版本，保留未变量的文档\n",
    "doc2.page_content = \"A heavy and cute panda\"\n",
    "ir = index(\n",
    "    [doc2],\n",
    "    record_manager,\n",
    "    vectorstore,\n",
    "    cleanup=None,\n",
    "    source_id_key=\"source\"\n",
    ")\n",
    "print(\"文档变更\", ir)"
   ]
  },
  {
   "cell_type": "markdown",
   "metadata": {},
   "source": [
    "## 4. 增量模式"
   ]
  },
  {
   "cell_type": "code",
   "execution_count": null,
   "metadata": {},
   "outputs": [
    {
     "name": "stdout",
     "output_type": "stream",
     "text": [
      "有重复文档 {'num_added': 2, 'num_updated': 0, 'num_skipped': 0, 'num_deleted': 0}\n",
      "再次索引相同文档 {'num_added': 0, 'num_updated': 0, 'num_skipped': 2, 'num_deleted': 0}\n",
      "文档变更 {'num_added': 1, 'num_updated': 0, 'num_skipped': 1, 'num_deleted': 1}\n",
      "不提供文档 {'num_added': 0, 'num_updated': 0, 'num_skipped': 0, 'num_deleted': 0}\n"
     ]
    }
   ],
   "source": [
    "_clear()\n",
    "\n",
    "doc2.page_content = \"A cute panda\"\n",
    "# 有重复文档\n",
    "ir = index(\n",
    "    [doc1, doc1, doc2],\n",
    "    record_manager,\n",
    "    vectorstore,\n",
    "    cleanup=\"incremental\",\n",
    "    source_id_key=\"source\"\n",
    ")\n",
    "print(\"有重复文档\", ir)\n",
    "\n",
    "# 再次索引相同文档\n",
    "ir = index(\n",
    "    [doc1, doc2],\n",
    "    record_manager,\n",
    "    vectorstore,\n",
    "    cleanup=\"incremental\",\n",
    "    source_id_key=\"source\"\n",
    ")\n",
    "print(\"再次索引相同文档\", ir)\n",
    "\n",
    "# 使用增量删除模式，只删除变量的旧版本，保留未变量的文档\n",
    "doc2.page_content = \"A heavy and cute panda\"\n",
    "ir = index(\n",
    "    [doc1, doc2],\n",
    "    record_manager,\n",
    "    vectorstore,\n",
    "    cleanup=\"incremental\",\n",
    "    source_id_key=\"source\"\n",
    ")\n",
    "print(\"文档变更\", ir)\n",
    "\n",
    "# 如果不提供文档，则不会有变化\n",
    "ir = index(\n",
    "    [],\n",
    "    record_manager,\n",
    "    vectorstore,\n",
    "    cleanup=\"incremental\",\n",
    "    source_id_key=\"source\"\n",
    ")\n",
    "print(\"不提供文档\", ir)"
   ]
  },
  {
   "cell_type": "markdown",
   "metadata": {},
   "source": [
    "## 5. 全量模式"
   ]
  },
  {
   "cell_type": "code",
   "execution_count": 50,
   "metadata": {},
   "outputs": [
    {
     "name": "stdout",
     "output_type": "stream",
     "text": [
      "新库索引 {'num_added': 2, 'num_updated': 0, 'num_skipped': 0, 'num_deleted': 0}\n",
      "索引doc3 {'num_added': 1, 'num_updated': 0, 'num_skipped': 0, 'num_deleted': 2}\n"
     ]
    }
   ],
   "source": [
    "_clear()\n",
    "\n",
    "doc2.page_content = \"A cute panda\"\n",
    "\n",
    "# 新库索引\n",
    "ir = index(\n",
    "    [doc1, doc2],\n",
    "    record_manager,\n",
    "    vectorstore,\n",
    "    cleanup=\"full\",\n",
    "    source_id_key=\"source\"\n",
    ")\n",
    "print(\"新库索引\", ir)\n",
    "\n",
    "# 索引doc3，doc1和doc2会被删除\n",
    "ir = index(\n",
    "    [doc3],\n",
    "    record_manager,\n",
    "    vectorstore,\n",
    "    cleanup=\"full\",\n",
    "    source_id_key=\"source\"\n",
    ")\n",
    "print(\"索引doc3\", ir)"
   ]
  }
 ],
 "metadata": {
  "kernelspec": {
   "display_name": "wrenv3.10",
   "language": "python",
   "name": "python3"
  },
  "language_info": {
   "codemirror_mode": {
    "name": "ipython",
    "version": 3
   },
   "file_extension": ".py",
   "mimetype": "text/x-python",
   "name": "python",
   "nbconvert_exporter": "python",
   "pygments_lexer": "ipython3",
   "version": "3.10.16"
  }
 },
 "nbformat": 4,
 "nbformat_minor": 2
}
