{
 "cells": [
  {
   "cell_type": "markdown",
   "metadata": {},
   "source": [
    "## Split Text\n",
    "\n",
    "\n",
    "- RecursiveCharacterTextSplitter：采用递归方式分割文本，基于用户定义的分隔符列表进行多次分割，直到每个文本块的大小满足预设的chunk_size。它更加智能地处理文本，能够更好地保持文本的语义结构和连贯性。此外，它还支持chunk_overlap参数，允许相邻文本块之间有重叠部分，以保留更多的上下文信息。\n",
    "- CharacterTextSplitter：则直接基于指定的字符序列（如换行符、空格等）将文本分割成小块。它的分割方式相对简单直接，不涉及递归处理。虽然它也支持自定义分割大小和重叠部分，但在处理复杂文本结构和保持语义连贯性方面可能不如RecursiveCharacterTextSplitter灵活。\n",
    "- TokenTextSplitter:首先将文本转换为BPE令牌，然后将这些令牌分成块，并将单个块中的令牌转换回文本。"
   ]
  },
  {
   "cell_type": "code",
   "execution_count": 32,
   "metadata": {},
   "outputs": [],
   "source": [
    "from langchain.text_splitter import RecursiveCharacterTextSplitter, CharacterTextSplitter, TokenTextSplitter\n",
    "from transformers import GPT2TokenizerFast\n",
    "\n",
    "text = \"\"\"\n",
    "中国马拉松官网数据显示，2024年，全国共举办路跑赛事671场，参赛人次约656万。 \n",
    "赛事分布范围涵盖了全国31个省级行政区，261个市，537个区县。 \n",
    "\n",
    "仅2024年11月，国内就有114场赛事鸣枪举办， 其中11月3日同时进行的马拉松达31场次。\"\"\"\n"
   ]
  },
  {
   "cell_type": "markdown",
   "metadata": {},
   "source": [
    "1. 字符串分割 CharacterTextSplitter\n",
    "\n",
    "使用CharacterTextSplitter分割，可能因为词元不能被分割，造成片段大小大于chunk_size"
   ]
  },
  {
   "cell_type": "code",
   "execution_count": 39,
   "metadata": {},
   "outputs": [
    {
     "data": {
      "text/plain": [
       "['中国马拉松官网数据显示，2024年，全国共举办路跑赛事671场，参赛人次约656万。 \\n赛事分布范围涵盖了全国31个省级行政区，261个市，537个区县。 \\n仅2024年11月，国内就有114场赛事鸣枪举办， 其中11月3日同时进行的马拉松达31场次。']"
      ]
     },
     "execution_count": 39,
     "metadata": {},
     "output_type": "execute_result"
    }
   ],
   "source": [
    "splitter = CharacterTextSplitter.from_tiktoken_encoder(chunk_size=100, chunk_overlap=0)\n",
    "splitter.split_text(text)"
   ]
  },
  {
   "cell_type": "markdown",
   "metadata": {},
   "source": [
    "2. 递归字符串分割\n",
    "\n",
    "使用RecursiveCharacterTextSplitter分割，可以将词元按字符分割，保证片段的大小小于等于chunk_size"
   ]
  },
  {
   "cell_type": "code",
   "execution_count": 41,
   "metadata": {},
   "outputs": [
    {
     "data": {
      "text/plain": [
       "['中国马拉松官网数据显示，2024年，全国共举办路跑赛事671场，参赛人次约656万。',\n",
       " '赛事分布范围涵盖了全国31个省级行政区，261个市，537个区县。',\n",
       " '仅2024年11月，国内就有114场赛事鸣枪举办， 其中11月3日同时进行的马拉松达31场次。']"
      ]
     },
     "execution_count": 41,
     "metadata": {},
     "output_type": "execute_result"
    }
   ],
   "source": [
    "splitter = RecursiveCharacterTextSplitter.from_tiktoken_encoder(\n",
    "    chunk_size=100, chunk_overlap=5\n",
    ")\n",
    "splitter.split_text(text)"
   ]
  },
  {
   "cell_type": "markdown",
   "metadata": {},
   "source": [
    "3. 词元分组"
   ]
  },
  {
   "cell_type": "code",
   "execution_count": 42,
   "metadata": {},
   "outputs": [
    {
     "data": {
      "text/plain": [
       "['\\n中国马拉松官网数据显示，2024年，全国共举办路跑赛事671场，参赛人次约656万。 \\n赛事分布范围涵�',\n",
       " '�涵盖了全国31个省级行政区，261个市，537个区县。 \\n仅2024年11月，国内就有114场赛事鸣枪举办， 其中11月3日�',\n",
       " '�3日同时进行的马拉松达31场次。']"
      ]
     },
     "execution_count": 42,
     "metadata": {},
     "output_type": "execute_result"
    }
   ],
   "source": [
    "splitter = TokenTextSplitter.from_tiktoken_encoder(\n",
    "    chunk_size=100, chunk_overlap=5\n",
    ")\n",
    "splitter.split_text(text)"
   ]
  }
 ],
 "metadata": {
  "kernelspec": {
   "display_name": "wrenv3.10",
   "language": "python",
   "name": "python3"
  },
  "language_info": {
   "codemirror_mode": {
    "name": "ipython",
    "version": 3
   },
   "file_extension": ".py",
   "mimetype": "text/x-python",
   "name": "python",
   "nbconvert_exporter": "python",
   "pygments_lexer": "ipython3",
   "version": "3.10.16"
  }
 },
 "nbformat": 4,
 "nbformat_minor": 2
}
