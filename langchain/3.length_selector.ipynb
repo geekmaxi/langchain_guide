{
 "cells": [
  {
   "cell_type": "markdown",
   "metadata": {},
   "source": [
    "## Length Selector"
   ]
  },
  {
   "cell_type": "code",
   "execution_count": 1,
   "metadata": {},
   "outputs": [],
   "source": [
    "from langchain_core.example_selectors import LengthBasedExampleSelector\n",
    "from langchain_core.prompts import FewShotPromptTemplate, PromptTemplate\n",
    "from pprint import pprint\n",
    "\n",
    "import tiktoken\n",
    "\n",
    "# tiktoken.count(\"\")\n",
    "# global ENCODING_CONSTRUCTORS\n",
    "# pprint(ENCODING_CONSTRUCTORS)\n",
    "\n",
    "examples = [\n",
    "    {\"input\": \"高兴\", \"output\": \"伤心\"},\n",
    "    {\"input\": \"高\", \"output\": \"矮\"},\n",
    "    {\"input\": \"积极\", \"output\": \"消极\"},\n",
    "    {\"input\": \"晴天\", \"output\": \"阴天\"},\n",
    "    {\"input\": \"前面\", \"output\": \"后面\"},\n",
    "]\n",
    "example_prompt = PromptTemplate(\n",
    "    input_variables=[\"input\", \"output\"],\n",
    "    template=\"Input: {input}\\nOutput: {output}\"\n",
    ")\n",
    "\n",
    "def get_length(str: str) -> int:\n",
    "    return len(tiktoken.get_encoding('cl100k_base').encode(str))\n",
    "\n",
    "example_selector = LengthBasedExampleSelector(\n",
    "    examples=examples,\n",
    "    example_prompt=example_prompt,\n",
    "    max_length=64,\n",
    "    get_text_length=get_length\n",
    ")\n",
    "\n",
    "dynamic_prompt = FewShotPromptTemplate(\n",
    "    example_selector=example_selector,\n",
    "    example_prompt=example_prompt,\n",
    "    prefix=\"给出所有输入的反义词\",\n",
    "    suffix=\"Input: {adjective}\\nOutput:\",\n",
    "    input_variables=[\"adjective\"],\n",
    "    example_separator=\"\\n\"\n",
    ")"
   ]
  },
  {
   "cell_type": "markdown",
   "metadata": {},
   "source": [
    "### 用户输入内容长度小于25token"
   ]
  },
  {
   "cell_type": "code",
   "execution_count": 2,
   "metadata": {},
   "outputs": [
    {
     "name": "stdout",
     "output_type": "stream",
     "text": [
      "('给出所有输入的反义词\\n'\n",
      " 'Input: 高兴\\n'\n",
      " 'Output: 伤心\\n'\n",
      " 'Input: 高\\n'\n",
      " 'Output: 矮\\n'\n",
      " 'Input: 积极\\n'\n",
      " 'Output: 消极\\n'\n",
      " 'Input: 晴天\\n'\n",
      " 'Output: 阴天\\n'\n",
      " 'Input: 前面\\n'\n",
      " 'Output: 后面\\n'\n",
      " 'Input: 开心\\n'\n",
      " 'Output:')\n"
     ]
    }
   ],
   "source": [
    "pprint(dynamic_prompt.format(adjective=\"开心\"))"
   ]
  },
  {
   "cell_type": "markdown",
   "metadata": {},
   "source": [
    "### 长度大于32 token"
   ]
  },
  {
   "cell_type": "code",
   "execution_count": 3,
   "metadata": {},
   "outputs": [
    {
     "name": "stdout",
     "output_type": "stream",
     "text": [
      "'user input length: 36'\n",
      "('给出所有输入的反义词\\n'\n",
      " 'Input: 高兴\\n'\n",
      " 'Output: 伤心\\n'\n",
      " 'Input: 高\\n'\n",
      " 'Output: 矮\\n'\n",
      " 'Input: 很高兴听到你感到开心！😊 有什么特别的原因让你心情这么好吗？\\n'\n",
      " 'Output:')\n"
     ]
    }
   ],
   "source": [
    "input = \"很高兴听到你感到开心！😊 有什么特别的原因让你心情这么好吗？\"\n",
    "pprint(\"user input length: {}\".format(get_length(input)))\n",
    "pprint(dynamic_prompt.format(adjective=input))\n",
    "# pprint(len(\"很高兴听到你感到开心！😊 有什么特别的原因让你心情这么好吗？高兴高兴高兴高兴高兴高兴高兴高兴高兴高兴高兴高兴高兴高兴高兴高兴高兴，你好\"))"
   ]
  }
 ],
 "metadata": {
  "kernelspec": {
   "display_name": "wrenv3.10",
   "language": "python",
   "name": "python3"
  },
  "language_info": {
   "codemirror_mode": {
    "name": "ipython",
    "version": 3
   },
   "file_extension": ".py",
   "mimetype": "text/x-python",
   "name": "python",
   "nbconvert_exporter": "python",
   "pygments_lexer": "ipython3",
   "version": "3.10.16"
  }
 },
 "nbformat": 4,
 "nbformat_minor": 2
}
