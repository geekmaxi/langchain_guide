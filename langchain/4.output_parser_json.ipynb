{
 "cells": [
  {
   "cell_type": "markdown",
   "metadata": {},
   "source": [
    "## Output Parser"
   ]
  },
  {
   "cell_type": "markdown",
   "metadata": {},
   "source": [
    "1. 引入库"
   ]
  },
  {
   "cell_type": "code",
   "execution_count": 1,
   "metadata": {},
   "outputs": [],
   "source": [
    "from typing import List\n",
    "from pydantic import BaseModel, Field\n",
    "from langchain_core.prompts import PromptTemplate\n",
    "from langchain_core.output_parsers import PydanticOutputParser\n",
    "from pprint import pprint\n",
    "from chat_model_client import get_model"
   ]
  },
  {
   "cell_type": "markdown",
   "metadata": {},
   "source": [
    "2. 声明返回结构"
   ]
  },
  {
   "cell_type": "code",
   "execution_count": 2,
   "metadata": {},
   "outputs": [],
   "source": [
    "class Marathon(BaseModel):\n",
    "    name: str = Field(\n",
    "        description=\"name of event\"\n",
    "    ),\n",
    "    date: str = Field(\n",
    "        description=\"the date of event\"\n",
    "    ),\n",
    "    city: str = Field(\n",
    "        description=\"Event host city\"\n",
    "    )"
   ]
  },
  {
   "cell_type": "markdown",
   "metadata": {},
   "source": [
    "3.解析器及prompt"
   ]
  },
  {
   "cell_type": "code",
   "execution_count": 3,
   "metadata": {},
   "outputs": [
    {
     "name": "stderr",
     "output_type": "stream",
     "text": [
      "/Users/shaon/anaconda3/envs/wrenv3.10/lib/python3.10/site-packages/pydantic/json_schema.py:2191: PydanticJsonSchemaWarning: Default value (FieldInfo(annotation=NoneType, required=True, description='name of event'),) is not JSON serializable; excluding default from JSON schema [non-serializable-default]\n",
      "  warnings.warn(message, PydanticJsonSchemaWarning)\n",
      "/Users/shaon/anaconda3/envs/wrenv3.10/lib/python3.10/site-packages/pydantic/json_schema.py:2191: PydanticJsonSchemaWarning: Default value (FieldInfo(annotation=NoneType, required=True, description='the date of event'),) is not JSON serializable; excluding default from JSON schema [non-serializable-default]\n",
      "  warnings.warn(message, PydanticJsonSchemaWarning)\n"
     ]
    }
   ],
   "source": [
    "query = \"随机生成一个马拉松赛事，并给出比赛时间及城市\"\n",
    "parser = PydanticOutputParser(pydantic_object=Marathon)\n",
    "prompt = PromptTemplate(\n",
    "    template=\"回答下面的问题：\\n{format_instructions}\\n{query}\\n如果输出的是代码块，请不要包括首尾的```符号\",\n",
    "    input_variables=[\"query\"],\n",
    "    partial_variables={\"format_instructions\": parser.get_format_instructions()},\n",
    ")"
   ]
  },
  {
   "cell_type": "markdown",
   "metadata": {},
   "source": [
    "4. Prompt"
   ]
  },
  {
   "cell_type": "code",
   "execution_count": 7,
   "metadata": {},
   "outputs": [
    {
     "name": "stdout",
     "output_type": "stream",
     "text": [
      "('回答下面的问题：\\n'\n",
      " 'The output should be formatted as a JSON instance that conforms to the JSON '\n",
      " 'schema below.\\n'\n",
      " '\\n'\n",
      " 'As an example, for the schema {\"properties\": {\"foo\": {\"title\": \"Foo\", '\n",
      " '\"description\": \"a list of strings\", \"type\": \"array\", \"items\": {\"type\": '\n",
      " '\"string\"}}}, \"required\": [\"foo\"]}\\n'\n",
      " 'the object {\"foo\": [\"bar\", \"baz\"]} is a well-formatted instance of the '\n",
      " 'schema. The object {\"properties\": {\"foo\": [\"bar\", \"baz\"]}} is not '\n",
      " 'well-formatted.\\n'\n",
      " '\\n'\n",
      " 'Here is the output schema:\\n'\n",
      " '```\\n'\n",
      " '{\"properties\": {\"name\": {\"title\": \"Name\", \"type\": \"string\"}, \"date\": '\n",
      " '{\"title\": \"Date\", \"type\": \"string\"}, \"city\": {\"description\": \"Event host '\n",
      " 'city\", \"title\": \"City\", \"type\": \"string\"}}, \"required\": [\"city\"]}\\n'\n",
      " '```\\n'\n",
      " '随机生成一个马拉松赛事，并给出比赛时间及城市\\n'\n",
      " '如果输出的是代码块，请不要包括首尾的```符号')\n"
     ]
    }
   ],
   "source": [
    "pprint(prompt.format(query=query))"
   ]
  },
  {
   "cell_type": "markdown",
   "metadata": {},
   "source": [
    "5. 解析并输出内容"
   ]
  },
  {
   "cell_type": "code",
   "execution_count": 4,
   "metadata": {},
   "outputs": [
    {
     "name": "stderr",
     "output_type": "stream",
     "text": [
      "/var/folders/5x/c0q41fpx6l540lsl42_bzk5h0000gq/T/ipykernel_68319/1734759378.py:1: UserWarning: Parameters {'presence_penalty', 'top_p', 'frequency_penalty'} should be specified explicitly. Instead they were passed in as part of `model_kwargs` parameter.\n",
      "  llm = get_model(\"openai\")\n"
     ]
    },
    {
     "name": "stdout",
     "output_type": "stream",
     "text": [
      "Marathon(name='New York City Marathon', date='November 7, 2021', city='New York City')\n"
     ]
    }
   ],
   "source": [
    "llm = get_model(\"openai\")\n",
    "\n",
    "chain = prompt | llm | parser\n",
    "output= chain.invoke(query)\n",
    "\n",
    "pprint(output)"
   ]
  }
 ],
 "metadata": {
  "kernelspec": {
   "display_name": "wrenv3.10",
   "language": "python",
   "name": "python3"
  },
  "language_info": {
   "codemirror_mode": {
    "name": "ipython",
    "version": 3
   },
   "file_extension": ".py",
   "mimetype": "text/x-python",
   "name": "python",
   "nbconvert_exporter": "python",
   "pygments_lexer": "ipython3",
   "version": "3.10.16"
  }
 },
 "nbformat": 4,
 "nbformat_minor": 2
}
