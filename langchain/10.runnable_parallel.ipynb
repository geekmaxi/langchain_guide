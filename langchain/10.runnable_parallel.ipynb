{
 "cells": [
  {
   "cell_type": "markdown",
   "metadata": {},
   "source": [
    "## The Example for RunableParallel"
   ]
  },
  {
   "cell_type": "code",
   "execution_count": 1,
   "metadata": {},
   "outputs": [],
   "source": [
    "from langchain_core.runnables import RunnableParallel\n",
    "from langchain_core.prompts import ChatPromptTemplate\n",
    "from chat_model_client import get_model\n"
   ]
  },
  {
   "cell_type": "markdown",
   "metadata": {},
   "source": [
    "通过RunnableParallel，并行执行多个Runnable对象"
   ]
  },
  {
   "cell_type": "code",
   "execution_count": 4,
   "metadata": {},
   "outputs": [
    {
     "data": {
      "text/plain": [
       "{'product': AIMessage(content='\\n### 1. 玩具：小红伞手抱式玩具\\n\\n### 2. 书籍：小红伞故事集\\n\\n### 3. 服装：小红伞的服装系列\\n\\n### 4. 家居：小红伞主题的家居设备和装饰品\\n\\n### 5. 游戏：小红伞的游戏软件和游戏机制\\n\\n### 6. 食品：小红伞主题的糖果、巧克力等食品\\n\\n### 7. 电子产品：小红伞主题的智能手表、智能手机桌面软件等\\n\\n### 8. 服务：小红伞主题的婴儿照片和婴儿礼品等服务\\n', additional_kwargs={}, response_metadata={'model': 'llama2-chinese', 'created_at': '2025-01-23T16:23:19.592494Z', 'done': True, 'done_reason': 'stop', 'total_duration': 211322345208, 'load_duration': 1472446750, 'prompt_eval_count': 29, 'prompt_eval_duration': 9595000000, 'eval_count': 261, 'eval_duration': 200249000000, 'message': Message(role='assistant', content='', images=None, tool_calls=None)}, id='run-c8dcb2e3-200f-4d5d-9735-aa8212f99097-0', usage_metadata={'input_tokens': 29, 'output_tokens': 261, 'total_tokens': 290}),\n",
       " 'ad': AIMessage(content='\\n### 产品名称：小红伞手机托手\\n\\n### 产品简介：\\n小红伞手机托手是一款具有多种功能的智能手机托手。它可以提供手机用户更加舒适的使用体验，同时还可以为手机电池提供一定的保护。\\n\\n### 特点：\\n- 智能托手：小红伞手机托手可以根据手机的屏幕大小自动调整托手的高度，提供更加舒适的使用体验。\\n- 电池保护：小红伞手机托手可以为手机电池提供一定的保护，延长手机的使用时间。\\n- 多种功能：小红伞手机托手还可以作为手机锁、手机拨号器、手机笔记等多种功能。\\n\\n### 广告语：\\n“让你的手机更加舒适，让你的手机电池更加长寿。小红伞手机托手，为你提供更多的使用体验！”\\n', additional_kwargs={}, response_metadata={'model': 'llama2-chinese', 'created_at': '2025-01-23T16:23:43.057593Z', 'done': True, 'done_reason': 'stop', 'total_duration': 234785752500, 'load_duration': 1471206042, 'prompt_eval_count': 29, 'prompt_eval_duration': 9663000000, 'eval_count': 376, 'eval_duration': 223638000000, 'message': Message(role='assistant', content='', images=None, tool_calls=None)}, id='run-f584aff5-0fe0-46e3-9c85-7471875c8f89-0', usage_metadata={'input_tokens': 29, 'output_tokens': 376, 'total_tokens': 405})}"
      ]
     },
     "execution_count": 4,
     "metadata": {},
     "output_type": "execute_result"
    }
   ],
   "source": [
    "llm = get_model(\"llama\")\n",
    "pr_chain = ChatPromptTemplate.from_template(\"设计一款关于{topic}的产品\") | llm\n",
    "ad_chain = ChatPromptTemplate.from_template(\"设计一个关于{topic}的产品广告\") | llm\n",
    "\n",
    "\n",
    "chain = RunnableParallel(\n",
    "    product=pr_chain,\n",
    "    ad=ad_chain\n",
    ")\n",
    "\n",
    "\n",
    "chain.invoke({\"topic\": \"小红伞\"})"
   ]
  }
 ],
 "metadata": {
  "kernelspec": {
   "display_name": "wrenv3.10",
   "language": "python",
   "name": "python3"
  },
  "language_info": {
   "codemirror_mode": {
    "name": "ipython",
    "version": 3
   },
   "file_extension": ".py",
   "mimetype": "text/x-python",
   "name": "python",
   "nbconvert_exporter": "python",
   "pygments_lexer": "ipython3",
   "version": "3.10.16"
  }
 },
 "nbformat": 4,
 "nbformat_minor": 2
}
