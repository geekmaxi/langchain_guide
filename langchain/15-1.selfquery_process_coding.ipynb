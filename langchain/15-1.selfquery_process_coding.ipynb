{
 "cells": [
  {
   "cell_type": "markdown",
   "metadata": {},
   "source": [
    "# Self Querying Process"
   ]
  },
  {
   "cell_type": "markdown",
   "metadata": {},
   "source": [
    "本节内容主要是为了尝试理解Self Query的执行过程"
   ]
  },
  {
   "cell_type": "code",
   "execution_count": 10,
   "metadata": {},
   "outputs": [],
   "source": [
    "\n",
    "from langchain.retrievers.self_query.base import SelfQueryRetriever\n",
    "from langchain.retrievers.self_query.chroma import ChromaTranslator\n",
    "from langchain.chains.query_constructor.base import AttributeInfo, StructuredQueryOutputParser, get_query_constructor_prompt\n",
    "from langchain_core.documents import Document\n",
    "from langchain_community.vectorstores import Chroma\n",
    "from langchain_ollama import OllamaEmbeddings\n",
    "from langchain_core.output_parsers import JsonOutputParser\n",
    "\n",
    "from chat_model_client import get_model\n",
    "from pprint import  pprint"
   ]
  },
  {
   "cell_type": "markdown",
   "metadata": {},
   "source": [
    "## 1. 组织数据\n",
    "\n",
    "需要声明文档数据结构，细化到每一个属性的名称、数据类型、描述，并解释文档主体内容。"
   ]
  },
  {
   "cell_type": "code",
   "execution_count": 5,
   "metadata": {},
   "outputs": [],
   "source": [
    "documents = [\n",
    "    Document(\n",
    "        page_content=\"A bunch of scientists bring back dinosaurs and mayhem breaks loose\",\n",
    "        metadata={\n",
    "            \"year\": 1993,\n",
    "            \"director\": \"Steven Spielberg\",\n",
    "            \"rating\": 7.7,\n",
    "            \"genre\": \"science fiction\",\n",
    "        }\n",
    "    ),\n",
    "    Document(\n",
    "        page_content=\"Leo DiCaprio gets lost in a dream within a dream within a dream within a ...\",\n",
    "        metadata={\n",
    "            \"year\": 2010,\n",
    "            \"director\": \"Christopher Nolan\",\n",
    "            \"rating\": 8.2,\n",
    "            \"genre\": \"action\",\n",
    "        }\n",
    "    ),\n",
    "    Document(\n",
    "        page_content=\"A psychologist / detective gets lost in a series of dreams within some dreams\",\n",
    "        metadata={\n",
    "            \"year\": 1964,\n",
    "            \"director\": \"Andrei Tarkovsky\",\n",
    "            \"rating\": 8.1,\n",
    "            \"genre\": \"thriller\",\n",
    "        }\n",
    "    ),\n",
    "    Document(\n",
    "        page_content=\"A bunch of normal-sized women are supremely wholesome and very very noble for your ...\",\n",
    "        metadata={\n",
    "            \"year\": 2015,\n",
    "            \"director\": \"Dennis Dugan\",\n",
    "            \"rating\": 7.4,\n",
    "            \"genre\": \"comedy\",\n",
    "        }\n",
    "    ),\n",
    "    Document(\n",
    "        page_content=\"This film is just boring\",\n",
    "        metadata={\n",
    "            \"year\": 1988,\n",
    "            \"director\": \"Ryan Fleck\",\n",
    "            \"rating\": 6.8,\n",
    "            \"genre\": \"horror\",\n",
    "        }\n",
    "    )\n",
    "]\n",
    "\n",
    "metadata_field_info = [\n",
    "    AttributeInfo(\n",
    "        name=\"genre\",\n",
    "        description=\"The genre of the movie, one of ['science fiction', 'comedy', 'drama', thriller', 'romance', 'action', animated']\",\n",
    "        type=\"string\",\n",
    "    ),\n",
    "    AttributeInfo(\n",
    "        name=\"year\",\n",
    "        description=\"The year when the movie was released\",\n",
    "        type=\"integer\",\n",
    "    ),\n",
    "    AttributeInfo(\n",
    "        name=\"director\",\n",
    "        description=\"The name of the movie director\",\n",
    "        type=\"string\",\n",
    "    ),\n",
    "    AttributeInfo(\n",
    "        name=\"rating\",\n",
    "        description=\"A 1-10 rating for the movie\",\n",
    "        type=\"float\",\n",
    "    ),\n",
    "]\n",
    "\n",
    "document_content_description=\"Brief summary of a movie\""
   ]
  },
  {
   "cell_type": "markdown",
   "metadata": {},
   "source": [
    "## 2.构建查询语句\n",
    "\n",
    "利用LLM能力，将自然语言查询转换为结构化的查询；"
   ]
  },
  {
   "cell_type": "code",
   "execution_count": 26,
   "metadata": {},
   "outputs": [
    {
     "name": "stderr",
     "output_type": "stream",
     "text": [
      "/var/folders/5x/c0q41fpx6l540lsl42_bzk5h0000gq/T/ipykernel_1792/1083349591.py:5: UserWarning: Parameters {'presence_penalty', 'top_p', 'frequency_penalty'} should be specified explicitly. Instead they were passed in as part of `model_kwargs` parameter.\n",
      "  llm = get_model('openai')\n"
     ]
    },
    {
     "data": {
      "text/plain": [
       "StructuredQuery(query='women', filter=Comparison(comparator=<Comparator.EQ: 'eq'>, attribute='director', value='Dennis Dugan'), limit=None)"
      ]
     },
     "execution_count": 26,
     "metadata": {},
     "output_type": "execute_result"
    }
   ],
   "source": [
    "prompt = get_query_constructor_prompt(\n",
    "    document_content_description,\n",
    "    metadata_field_info\n",
    ")\n",
    "llm = get_model('openai')\n",
    "\n",
    "query_constructor = prompt | llm | StructuredQueryOutputParser.from_components()\n",
    "\n",
    "query = \"Has Dennis Dugan directed any movies about women\"\n",
    "\n",
    "# pprint(prompt.invoke(query))\n",
    "# output = query_constructor.invoke(query)\n",
    "# pprint(JsonOutputParser().invoke(output))\n",
    "\n",
    "query_constructor.invoke(query)\n"
   ]
  },
  {
   "cell_type": "markdown",
   "metadata": {},
   "source": [
    "## 3. 构建SelfQueryRetriever"
   ]
  },
  {
   "cell_type": "code",
   "execution_count": 28,
   "metadata": {},
   "outputs": [
    {
     "data": {
      "text/plain": [
       "[Document(metadata={'director': 'Dennis Dugan', 'genre': 'comedy', 'rating': 7.4, 'year': 2015}, page_content='A bunch of normal-sized women are supremely wholesome and very very noble for your ...'),\n",
       " Document(metadata={'director': 'Dennis Dugan', 'genre': 'comedy', 'rating': 7.4, 'year': 2015}, page_content='A bunch of normal-sized women are supremely wholesome and very very noble for your ...'),\n",
       " Document(metadata={'director': 'Dennis Dugan', 'genre': 'comedy', 'rating': 7.4, 'year': 2015}, page_content='A bunch of normal-sized women are supremely wholesome and very very noble for your ...'),\n",
       " Document(metadata={'director': 'Dennis Dugan', 'genre': 'comedy', 'rating': 7.4, 'year': 2015}, page_content='A bunch of normal-sized women are supremely wholesome and very very noble for your ...')]"
      ]
     },
     "execution_count": 28,
     "metadata": {},
     "output_type": "execute_result"
    }
   ],
   "source": [
    "\n",
    "retriever = SelfQueryRetriever(\n",
    "    query_constructor=query_constructor,\n",
    "    vectorstore=Chroma.from_documents(documents, OllamaEmbeddings(model = \"llama2-chinese\")),\n",
    "    structured_query_translator=ChromaTranslator()\n",
    ")\n",
    "\n",
    "retriever.invoke(query)\n"
   ]
  }
 ],
 "metadata": {
  "kernelspec": {
   "display_name": "wrenv3.10",
   "language": "python",
   "name": "python3"
  },
  "language_info": {
   "codemirror_mode": {
    "name": "ipython",
    "version": 3
   },
   "file_extension": ".py",
   "mimetype": "text/x-python",
   "name": "python",
   "nbconvert_exporter": "python",
   "pygments_lexer": "ipython3",
   "version": "3.10.16"
  }
 },
 "nbformat": 4,
 "nbformat_minor": 2
}
