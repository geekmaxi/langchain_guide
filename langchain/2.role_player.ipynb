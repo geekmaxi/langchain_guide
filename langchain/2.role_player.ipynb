{
 "cells": [
  {
   "cell_type": "markdown",
   "metadata": {},
   "source": [
    "## 角色扮演"
   ]
  },
  {
   "cell_type": "code",
   "execution_count": 1,
   "metadata": {},
   "outputs": [
    {
     "name": "stdout",
     "output_type": "stream",
     "text": [
      "('\\n'\n",
      " '### 1. 语言在计算机系统里的角色\\n'\n",
      " '\\n'\n",
      " '在计算机系统中，语言扮演着重要的角色。它不仅能够将人类的思想和意见传达给计算机，还可以用于控制计算机的行为。\\n'\n",
      " '\\n'\n",
      " '### 2. 语言的多种应用\\n'\n",
      " '\\n'\n",
      " '在计算机系统中，语言可以用于各种应用。例如，人工智能技术可以通过语言来与用户交互，并根据用户的输入进行适当的回答。此外，语言还可以用于控制机器人和自动化系统，以及在数据分析中对数据进行分析和解读。\\n'\n",
      " '\\n'\n",
      " '### 3. 语言的重要性\\n'\n",
      " '\\n'\n",
      " '无论是在工作还是在生活中，语言都是非常重要的。它可以用于交流信息、建立关系、解决问题和达成共识。因此，在计算机系统中，语言必须被认真地管理和控制，以确保其正常运作。\\n'\n",
      " '\\n'\n",
      " '### 4. 语言的未来发展\\n'\n",
      " '\\n'\n",
      " '随着人工智能技术的不断发展，语言在计算机系统中将会更加重要。未来，语言可能会成为一种更加自然、更加流畅的交互方式，使用户与计算机之间的沟通更加便利和准确。\\n'\n",
      " '\\n'\n",
      " '### 5. 语言的专业性\\n'\n",
      " '\\n'\n",
      " '在工作中，语言的专业性非常重要。无论是在写作还是在交流，语言必须被用户认真地管理和控制，以确保其正常运作。只有通过专业的语言技能，才能够达到更高水平的工作效率和质量。\\n'\n",
      " '\\n'\n",
      " '### 6. 表情符号的重要性\\n'\n",
      " '\\n'\n",
      " '在社交媒体上发布文章时，表情符号非常重要。它们可以用于加强文章的阅读体验，并且能够更好地传达出自然、生动和有趣的内容。因此，在发布中文文章时，请务必注意添加适当的表情符号，以使内容引人入胜并体现专业性。\\n')\n"
     ]
    }
   ],
   "source": [
    "from langchain_core.prompts import ChatPromptTemplate\n",
    "from langchain_core.output_parsers import StrOutputParser\n",
    "from chat_model_client import get_llama\n",
    "from pprint import pprint\n",
    "\n",
    "template = \"\"\"\n",
    "请扮演一位资深的技术博主，您将负责为用户生成适合在微博发布的中文文章。\n",
    "请把用户输入的内容扩展成 140个字左右的文章，并且添加适当的表情符号使内容引人入胜并体现专业性。\n",
    "\"\"\"\n",
    "prompt = ChatPromptTemplate.from_messages([\n",
    "    (\"system\", template),\n",
    "    (\"human\", \"{input}\")\n",
    "])\n",
    "\n",
    "llm = get_llama()\n",
    "chain = prompt | llm | StrOutputParser()\n",
    "pprint(chain.invoke({\"input\": \"语言在计算机系统里扮演什么角色\"}))\n"
   ]
  }
 ],
 "metadata": {
  "kernelspec": {
   "display_name": "wrenv3.10",
   "language": "python",
   "name": "python3"
  },
  "language_info": {
   "codemirror_mode": {
    "name": "ipython",
    "version": 3
   },
   "file_extension": ".py",
   "mimetype": "text/x-python",
   "name": "python",
   "nbconvert_exporter": "python",
   "pygments_lexer": "ipython3",
   "version": "3.10.16"
  }
 },
 "nbformat": 4,
 "nbformat_minor": 2
}
