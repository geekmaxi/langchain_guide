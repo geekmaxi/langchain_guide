{
 "cells": [
  {
   "cell_type": "markdown",
   "metadata": {},
   "source": [
    "# Time-Weighted Vector Store Retriever"
   ]
  },
  {
   "cell_type": "markdown",
   "metadata": {},
   "source": [
    "Time-Weighted Vector Store Retriever 是一种特殊的检索器，它是一种结合语义相似性和时间衰减的检索方法。\n",
    "不是基于文档创建时间，而是基于最后访问时间；频繁访问的对象会保持\"新鲜度\"。\n",
    "\n",
    "检索分数计算公式为：\n",
    "```\n",
    "semantic_similarity + (1.0 - decay_rate) ^ hours_passed\n",
    "\n",
    "```"
   ]
  },
  {
   "cell_type": "code",
   "execution_count": 33,
   "metadata": {},
   "outputs": [],
   "source": [
    "from datetime import datetime, timedelta\n",
    "\n",
    "from langchain_core.documents import Document\n",
    "from langchain_ollama import OllamaEmbeddings\n",
    "from langchain_openai import OpenAIEmbeddings\n",
    "from langchain_chroma import Chroma\n",
    "from langchain_community.vectorstores import FAISS\n",
    "from langchain_community.docstore import InMemoryDocstore\n",
    "from langchain.retrievers import TimeWeightedVectorStoreRetriever \n",
    "import faiss"
   ]
  },
  {
   "cell_type": "markdown",
   "metadata": {},
   "source": [
    "## 1. 声明TimeWeightedVectorStoreRetriever\n",
    "--------------\n",
    "由于Chroma向量数据库meta元数据不支持datetime类型，这也意味着如果要使用lanchain的时间衰减检索法，可能要就放弃chroma数据库，这个例子里使用了FAISS数据库。\n",
    "\n",
    "每个数据库在功能和性能上都有细微的差别，我们需要按自身的需求选择合适业务场景的组件服务。"
   ]
  },
  {
   "cell_type": "code",
   "execution_count": 41,
   "metadata": {},
   "outputs": [],
   "source": [
    "# Define your embedding model\n",
    "embeddings_model = OpenAIEmbeddings()\n",
    "# Initialize the vectorstore as empty\n",
    "embedding_size = 1536\n",
    "index = faiss.IndexFlatL2(embedding_size)\n",
    "vectorstore = FAISS(embeddings_model, index, InMemoryDocstore({}), {})\n",
    "retriever = TimeWeightedVectorStoreRetriever(\n",
    "    vectorstore=vectorstore, decay_rate=0.0000000000000000000000001, k=1\n",
    ")"
   ]
  },
  {
   "cell_type": "markdown",
   "metadata": {},
   "source": [
    "## 2. 添加文档"
   ]
  },
  {
   "cell_type": "code",
   "execution_count": 43,
   "metadata": {},
   "outputs": [
    {
     "data": {
      "text/plain": [
       "['cd968daf-9db0-4ffe-8ccf-7b8c1fe62920',\n",
       " '8f02225f-c358-4e7f-8762-0a5cf69537a9',\n",
       " '3753c034-3d23-40b4-a946-c472e7715a00']"
      ]
     },
     "execution_count": 43,
     "metadata": {},
     "output_type": "execute_result"
    }
   ],
   "source": [
    "# 这里默认last_accessed是当前时间\n",
    "retriever.add_documents([Document(page_content=\"I love fruit.\")])\n",
    "\n",
    "# 指定last_accessed时间为昨天\n",
    "yesterday = datetime.now() - timedelta(days=1)\n",
    "retriever.add_documents([\n",
    "    Document(page_content=\"I love programming.\", metadata={\"last_accessed\": yesterday}),\n",
    "    Document(page_content=\"I love basketball.\", metadata={\"last_accessed\": yesterday}),\n",
    "    Document(page_content=\"I love baseball.\", metadata={\"last_accessed\": yesterday})\n",
    "])"
   ]
  },
  {
   "cell_type": "markdown",
   "metadata": {},
   "source": [
    "## 3. 语义检索"
   ]
  },
  {
   "cell_type": "code",
   "execution_count": 44,
   "metadata": {},
   "outputs": [
    {
     "data": {
      "text/plain": [
       "[Document(metadata={'last_accessed_at': datetime.datetime(2025, 2, 6, 14, 24, 26, 211445), 'created_at': datetime.datetime(2025, 2, 6, 14, 14, 36, 877739), 'buffer_idx': 0}, page_content='I love fruit.')]"
      ]
     },
     "execution_count": 44,
     "metadata": {},
     "output_type": "execute_result"
    }
   ],
   "source": [
    "retriever.invoke(\"What do I like?\")"
   ]
  }
 ],
 "metadata": {
  "kernelspec": {
   "display_name": "wrenv3.10",
   "language": "python",
   "name": "python3"
  },
  "language_info": {
   "codemirror_mode": {
    "name": "ipython",
    "version": 3
   },
   "file_extension": ".py",
   "mimetype": "text/x-python",
   "name": "python",
   "nbconvert_exporter": "python",
   "pygments_lexer": "ipython3",
   "version": "3.10.16"
  }
 },
 "nbformat": 4,
 "nbformat_minor": 2
}
