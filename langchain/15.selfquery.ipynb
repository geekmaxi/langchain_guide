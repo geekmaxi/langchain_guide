{
 "cells": [
  {
   "cell_type": "markdown",
   "metadata": {},
   "source": [
    "## Self Querying"
   ]
  },
  {
   "cell_type": "markdown",
   "metadata": {},
   "source": [
    "Self-Querying 是一种特殊的检索器，能够自动将自然语言查询转换为结构化查询。具体来说，给定任何自然语言查询，检索器使用一个构造查询的LLM来编写结构化查询，然后将该结构化查询应用于其底层向量存储。这使得检索器不仅可以使用用户输入查询与存储文档的内容进行语义相似性比较，还可以从存储文档的元数据上的用户查询中提取过滤器，并执行这些过滤器。\n",
    "\n",
    "![这是图片](../assets/self_querying.jpg \"Self Query\")\n",
    "\n",
    "\n",
    "### 核心功能：\n",
    "\n",
    "* 不仅可以进行语义相似性搜索\n",
    "* 还能从用户查询中提取元数据过滤器\n",
    "* 可以直接在向量存储中执行这些过滤器\n",
    "\n",
    "### 工作原理：\n",
    "\n",
    "利用LLM能力，将自然语言查询转换为结构化的查询；\n",
    "然后将该结构化查询应用于底层向量存储。\n",
    "\n",
    "### 注意事项：\n",
    "\n",
    "需要提供文档描述，并指定文档元数据字段及其含义"
   ]
  },
  {
   "cell_type": "code",
   "execution_count": 2,
   "metadata": {},
   "outputs": [],
   "source": [
    "from langchain_ollama import OllamaEmbeddings\n",
    "from langchain_openai import OpenAIEmbeddings\n",
    "from langchain_core.documents import Document\n",
    "# from langchain_community.vectorstores import Chroma\n",
    "from langchain_chroma import Chroma\n",
    "from langchain.retrievers.self_query.base import SelfQueryRetriever\n",
    "from langchain.chains.query_constructor.base import AttributeInfo\n",
    "from langchain.document_loaders import SeleniumURLLoader\n",
    "\n",
    "from chat_model_client import get_model\n",
    "from pprint import pprint"
   ]
  },
  {
   "cell_type": "markdown",
   "metadata": {},
   "source": [
    "## 1. 组织数据\n",
    "\n",
    "需要声明文档数据结构，细化到每一个属性的名称、数据类型、描述，并解释文档主体内容。"
   ]
  },
  {
   "cell_type": "code",
   "execution_count": 3,
   "metadata": {},
   "outputs": [],
   "source": [
    "documents = [\n",
    "    Document(\n",
    "        page_content=\"A bunch of scientists bring back dinosaurs and mayhem breaks loose\",\n",
    "        metadata={\n",
    "            \"year\": 1993,\n",
    "            \"director\": \"Steven Spielberg\",\n",
    "            \"rating\": 7.7,\n",
    "            \"genre\": \"science fiction\",\n",
    "        }\n",
    "    ),\n",
    "    Document(\n",
    "        page_content=\"Leo DiCaprio gets lost in a dream within a dream within a dream within a ...\",\n",
    "        metadata={\n",
    "            \"year\": 2010,\n",
    "            \"director\": \"Christopher Nolan\",\n",
    "            \"rating\": 8.2,\n",
    "            \"genre\": \"action\",\n",
    "        }\n",
    "    ),\n",
    "    Document(\n",
    "        page_content=\"A psychologist / detective gets lost in a series of dreams within some dreams\",\n",
    "        metadata={\n",
    "            \"year\": 1964,\n",
    "            \"director\": \"Andrei Tarkovsky\",\n",
    "            \"rating\": 8.1,\n",
    "            \"genre\": \"thriller\",\n",
    "        }\n",
    "    ),\n",
    "    Document(\n",
    "        page_content=\"A bunch of normal-sized women are supremely wholesome and very very noble for your ...\",\n",
    "        metadata={\n",
    "            \"year\": 2015,\n",
    "            \"director\": \"Dennis Dugan\",\n",
    "            \"rating\": 7.4,\n",
    "            \"genre\": \"comedy\",\n",
    "        }\n",
    "    ),\n",
    "    Document(\n",
    "        page_content=\"This film is just boring\",\n",
    "        metadata={\n",
    "            \"year\": 1988,\n",
    "            \"director\": \"Ryan Fleck\",\n",
    "            \"rating\": 6.8,\n",
    "            \"genre\": \"horror\",\n",
    "        }\n",
    "    )\n",
    "]\n",
    "\n",
    "metadata_field_info = [\n",
    "    AttributeInfo(\n",
    "        name=\"genre\",\n",
    "        description=\"The genre of the movie, one of ['science fiction', 'comedy', 'drama', thriller', 'romance', 'action', animated']\",\n",
    "        type=\"string\",\n",
    "    ),\n",
    "    AttributeInfo(\n",
    "        name=\"year\",\n",
    "        description=\"The year when the movie was released\",\n",
    "        type=\"integer\",\n",
    "    ),\n",
    "    AttributeInfo(\n",
    "        name=\"director\",\n",
    "        description=\"The name of the movie director\",\n",
    "        type=\"string\",\n",
    "    ),\n",
    "    AttributeInfo(\n",
    "        name=\"rating\",\n",
    "        description=\"A 1-10 rating for the movie\",\n",
    "        type=\"float\",\n",
    "    ),\n",
    "]\n",
    "\n",
    "document_content_description=\"Brief summary of a movie\""
   ]
  },
  {
   "cell_type": "markdown",
   "metadata": {},
   "source": [
    "## 2. 构建 SelfQueryRetriever"
   ]
  },
  {
   "cell_type": "code",
   "execution_count": 7,
   "metadata": {},
   "outputs": [],
   "source": [
    "vectorstore = Chroma.from_documents(documents, OllamaEmbeddings(model = \"llama2-chinese\"))\n",
    "llm = get_model('llama')\n",
    "# vectorstore.as_retriever()\n",
    "retriever = SelfQueryRetriever.from_llm(\n",
    "    llm, vectorstore, document_content_description, metadata_field_info, search_type=\"mmr\", search_kwargs={\"score_threshold\": 0.2})\n",
    "# retriever = db.as_retriever(search_type=\"similarity_score_threshold\", search_kwargs={\"score_threshold\": 0.5})  # 构建检索器"
   ]
  },
  {
   "cell_type": "markdown",
   "metadata": {},
   "source": [
    "## 3. 只通过元数据进行查询"
   ]
  },
  {
   "cell_type": "code",
   "execution_count": 10,
   "metadata": {},
   "outputs": [
    {
     "name": "stderr",
     "output_type": "stream",
     "text": [
      "Number of requested results 20 is greater than number of elements in index 10, updating n_results = 10\n"
     ]
    },
    {
     "data": {
      "text/plain": [
       "[Document(id='a522575e-f5d7-42a7-bf6a-b8259e6cdf25', metadata={'director': 'Andrei Tarkovsky', 'genre': 'thriller', 'rating': 8.1, 'year': 1964}, page_content='A psychologist / detective gets lost in a series of dreams within some dreams'),\n",
       " Document(id='4e7d7cd8-93fc-45f3-8b26-577d8816019d', metadata={'director': 'Andrei Tarkovsky', 'genre': 'thriller', 'rating': 8.1, 'year': 1964}, page_content='A psychologist / detective gets lost in a series of dreams within some dreams')]"
      ]
     },
     "execution_count": 10,
     "metadata": {},
     "output_type": "execute_result"
    }
   ],
   "source": [
    "retriever.invoke(\"I want to watch a movie with rating higher than 8\", verbose = True)"
   ]
  },
  {
   "cell_type": "markdown",
   "metadata": {},
   "source": [
    "## 4. 同时查询元数据和文档内容"
   ]
  },
  {
   "cell_type": "code",
   "execution_count": 11,
   "metadata": {},
   "outputs": [
    {
     "name": "stderr",
     "output_type": "stream",
     "text": [
      "Number of requested results 20 is greater than number of elements in index 10, updating n_results = 10\n"
     ]
    },
    {
     "data": {
      "text/plain": [
       "[Document(id='097185a9-5905-4115-a76a-c3a0676527d5', metadata={'director': 'Dennis Dugan', 'genre': 'comedy', 'rating': 7.4, 'year': 2015}, page_content='A bunch of normal-sized women are supremely wholesome and very very noble for your ...'),\n",
       " Document(id='c4391631-6570-40fa-abbd-62d4de248c64', metadata={'director': 'Christopher Nolan', 'genre': 'action', 'rating': 8.2, 'year': 2010}, page_content='Leo DiCaprio gets lost in a dream within a dream within a dream within a ...'),\n",
       " Document(id='8a257bcb-723a-4db0-8e97-06884fdf40d5', metadata={'director': 'Ryan Fleck', 'genre': 'horror', 'rating': 6.8, 'year': 1988}, page_content='This film is just boring'),\n",
       " Document(id='2dcf6ff8-7f75-494f-9282-9acdde5a3385', metadata={'director': 'Ryan Fleck', 'genre': 'horror', 'rating': 6.8, 'year': 1988}, page_content='This film is just boring')]"
      ]
     },
     "execution_count": 11,
     "metadata": {},
     "output_type": "execute_result"
    }
   ],
   "source": [
    "retriever.invoke(\"Has Dennis Dugan directed any movies about women\", verbose = True)\n"
   ]
  },
  {
   "cell_type": "code",
   "execution_count": 34,
   "metadata": {},
   "outputs": [
    {
     "name": "stdout",
     "output_type": "stream",
     "text": [
      "+-------------------------+  \n",
      "| SelfQueryRetrieverInput |  \n",
      "+-------------------------+  \n",
      "              *              \n",
      "              *              \n",
      "              *              \n",
      "   +--------------------+    \n",
      "   | SelfQueryRetriever |    \n",
      "   +--------------------+    \n",
      "              *              \n",
      "              *              \n",
      "              *              \n",
      "+--------------------------+ \n",
      "| SelfQueryRetrieverOutput | \n",
      "+--------------------------+ \n",
      "None\n"
     ]
    }
   ],
   "source": [
    "pprint(retriever.get_graph().print_ascii())"
   ]
  },
  {
   "cell_type": "code",
   "execution_count": null,
   "metadata": {},
   "outputs": [],
   "source": []
  }
 ],
 "metadata": {
  "kernelspec": {
   "display_name": "wrenv3.10",
   "language": "python",
   "name": "python3"
  },
  "language_info": {
   "codemirror_mode": {
    "name": "ipython",
    "version": 3
   },
   "file_extension": ".py",
   "mimetype": "text/x-python",
   "name": "python",
   "nbconvert_exporter": "python",
   "pygments_lexer": "ipython3",
   "version": "3.10.16"
  }
 },
 "nbformat": 4,
 "nbformat_minor": 2
}
