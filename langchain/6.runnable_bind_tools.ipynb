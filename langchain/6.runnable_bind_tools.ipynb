{
 "cells": [
  {
   "cell_type": "markdown",
   "metadata": {},
   "source": [
    "## Rannable Object Binding Tools"
   ]
  },
  {
   "cell_type": "code",
   "execution_count": 19,
   "metadata": {},
   "outputs": [],
   "source": [
    "from pprint import pprint\n",
    "from pydantic import BaseModel, Field\n",
    "from langchain_core.prompts import PromptTemplate\n",
    "from chat_model_client import get_model\n",
    "from langchain_core.output_parsers import PydanticOutputParser\n",
    "from langchain_core.runnables import (\n",
    "    RunnablePassthrough\n",
    ")"
   ]
  },
  {
   "cell_type": "markdown",
   "metadata": {},
   "source": [
    "1. Tools声明"
   ]
  },
  {
   "cell_type": "code",
   "execution_count": 20,
   "metadata": {},
   "outputs": [],
   "source": [
    "tools = [\n",
    "    {\n",
    "        \"type\": \"function\",\n",
    "        \"function\": {\n",
    "            \"name\": \"solver\",\n",
    "            \"description\": \"表述并解一个方程\",\n",
    "            \"parameters\": {\n",
    "                \"type\": \"object\",\n",
    "                \"properties\": {\n",
    "                    \"equation\": {\n",
    "                        \"type\": \"string\",\n",
    "                        \"description\": \"待解的数学表达式\"\n",
    "                    },\n",
    "                    \"solution\": {\n",
    "                        \"type\": \"string\",\n",
    "                        \"description\": \"方程的解\"\n",
    "                    }\n",
    "                },\n",
    "                \"required\": [\"equation\", \"solution\"]\n",
    "            }\n",
    "        }\n",
    "        \n",
    "    }\n",
    "]"
   ]
  },
  {
   "cell_type": "markdown",
   "metadata": {},
   "source": [
    "2. 声明返回结构"
   ]
  },
  {
   "cell_type": "code",
   "execution_count": 21,
   "metadata": {},
   "outputs": [],
   "source": [
    "class Solver(BaseModel):\n",
    "    equation: str = Field(\n",
    "        description=\"数学表达式\"\n",
    "    ),\n",
    "    solution: str = Field(\n",
    "        description=\"方程的解\"\n",
    "    )"
   ]
  },
  {
   "cell_type": "markdown",
   "metadata": {},
   "source": [
    "2. 绑定tools"
   ]
  },
  {
   "cell_type": "code",
   "execution_count": 22,
   "metadata": {},
   "outputs": [
    {
     "name": "stderr",
     "output_type": "stream",
     "text": [
      "/Users/shaon/anaconda3/envs/wrenv3.10/lib/python3.10/site-packages/pydantic/json_schema.py:2191: PydanticJsonSchemaWarning: Default value (FieldInfo(annotation=NoneType, required=True, description='数学表达式'),) is not JSON serializable; excluding default from JSON schema [non-serializable-default]\n",
      "  warnings.warn(message, PydanticJsonSchemaWarning)\n"
     ]
    },
    {
     "data": {
      "text/plain": [
       "RunnableBinding(bound=ChatOpenAI(client=<openai.resources.chat.completions.Completions object at 0x136366d40>, async_client=<openai.resources.chat.completions.AsyncCompletions object at 0x136384730>, root_client=<openai.OpenAI object at 0x136367250>, root_async_client=<openai.AsyncOpenAI object at 0x136366dd0>, model_name='deepseek-chat', temperature=0.0, model_kwargs={}, openai_api_key=SecretStr('**********'), openai_api_base='https://api.deepseek.com', max_tokens=2000), kwargs={'tools': [{'type': 'function', 'function': {'name': 'solver', 'description': '表述并解一个方程', 'parameters': {'type': 'object', 'properties': {'equation': {'type': 'string', 'description': '待解的数学表达式'}, 'solution': {'type': 'string', 'description': '方程的解'}}, 'required': ['equation', 'solution']}}}]}, config={}, config_factories=[])"
      ]
     },
     "execution_count": 22,
     "metadata": {},
     "output_type": "execute_result"
    }
   ],
   "source": [
    "query = \"x的3次方加上11等于75\"\n",
    "parser = PydanticOutputParser(pydantic_object=Solver)\n",
    "prompt = PromptTemplate(\n",
    "    template=\"你是一个乐于助人的助手。写出下面的方程，然后求解。\\n{format_instructions}\\n{query}\\n如果输出的是代码块，请不要包括首尾的```符号\",\n",
    "    input_variables=[\"query\"],\n",
    "    partial_variables={\"format_instructions\": parser.get_format_instructions()},\n",
    ")\n",
    "\n",
    "# prompt = ChatPromptTemplate([\n",
    "#     (\"system\", \"你是一个乐于助人的助手。写出下面的方程，然后求解\"),\n",
    "#     (\"human\", \"{input}\")\n",
    "# ])\n",
    "\n",
    "llm = get_model('deepseek')\n",
    "llm.bind_tools(tools=tools)"
   ]
  },
  {
   "cell_type": "markdown",
   "metadata": {},
   "source": [
    "3. 构建并执行runnable"
   ]
  },
  {
   "cell_type": "code",
   "execution_count": 23,
   "metadata": {},
   "outputs": [
    {
     "name": "stdout",
     "output_type": "stream",
     "text": [
      "Solver(equation='x^3 + 11 = 75', solution='x = 4')\n"
     ]
    }
   ],
   "source": [
    "\n",
    "chain = {\"query\": RunnablePassthrough()} | prompt | llm | parser\n",
    "output = chain.invoke({\"query\": query})\n",
    "\n",
    "pprint(output)"
   ]
  },
  {
   "cell_type": "markdown",
   "metadata": {},
   "source": [
    "4. 链路检查"
   ]
  },
  {
   "cell_type": "code",
   "execution_count": 24,
   "metadata": {},
   "outputs": [
    {
     "name": "stdout",
     "output_type": "stream",
     "text": [
      "+----------------------+ \n",
      "| Parallel<query>Input | \n",
      "+----------------------+ \n",
      "            *            \n",
      "            *            \n",
      "            *            \n",
      "    +-------------+      \n",
      "    | Passthrough |      \n",
      "    +-------------+      \n",
      "            *            \n",
      "            *            \n",
      "            *            \n",
      "   +----------------+    \n",
      "   | PromptTemplate |    \n",
      "   +----------------+    \n",
      "            *            \n",
      "            *            \n",
      "            *            \n",
      "     +------------+      \n",
      "     | ChatOpenAI |      \n",
      "     +------------+      \n",
      "            *            \n",
      "            *            \n",
      "            *            \n",
      "+----------------------+ \n",
      "| PydanticOutputParser | \n",
      "+----------------------+ \n",
      "            *            \n",
      "            *            \n",
      "            *            \n",
      "       +--------+        \n",
      "       | Solver |        \n",
      "       +--------+        \n",
      "None\n"
     ]
    }
   ],
   "source": [
    "pprint(chain.get_graph().print_ascii())"
   ]
  }
 ],
 "metadata": {
  "kernelspec": {
   "display_name": "wrenv3.10",
   "language": "python",
   "name": "python3"
  },
  "language_info": {
   "codemirror_mode": {
    "name": "ipython",
    "version": 3
   },
   "file_extension": ".py",
   "mimetype": "text/x-python",
   "name": "python",
   "nbconvert_exporter": "python",
   "pygments_lexer": "ipython3",
   "version": "3.10.16"
  }
 },
 "nbformat": 4,
 "nbformat_minor": 2
}
