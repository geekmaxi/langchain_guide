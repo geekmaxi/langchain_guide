{
 "cells": [
  {
   "cell_type": "markdown",
   "metadata": {},
   "source": [
    "## The Example for RunableLambda"
   ]
  },
  {
   "cell_type": "code",
   "execution_count": 2,
   "metadata": {},
   "outputs": [],
   "source": [
    "from langchain_core.runnables import RunnableLambda\n",
    "from langchain_core.prompts import ChatPromptTemplate\n",
    "from chat_model_client import get_model\n",
    "from operator import itemgetter"
   ]
  },
  {
   "cell_type": "markdown",
   "metadata": {},
   "source": [
    "1. 函数声明"
   ]
  },
  {
   "cell_type": "code",
   "execution_count": 3,
   "metadata": {},
   "outputs": [],
   "source": [
    "def length_function(text: str):\n",
    "    return len(text)\n",
    "\n",
    "def multiple_length_function(_dict: dict):\n",
    "    return len(_dict[\"text1\"]) * len(_dict[\"text2\"])"
   ]
  },
  {
   "cell_type": "markdown",
   "metadata": {},
   "source": [
    "2. 调用multiple_length_function"
   ]
  },
  {
   "cell_type": "code",
   "execution_count": 5,
   "metadata": {},
   "outputs": [
    {
     "data": {
      "text/plain": [
       "AIMessage(content='\\nThe answer to 3 + 9 is 12.', additional_kwargs={}, response_metadata={'model': 'llama2-chinese', 'created_at': '2025-01-23T14:44:19.321791Z', 'done': True, 'done_reason': 'stop', 'total_duration': 19483692458, 'load_duration': 31675458, 'prompt_eval_count': 17, 'prompt_eval_duration': 5909000000, 'eval_count': 15, 'eval_duration': 13534000000, 'message': Message(role='assistant', content='', images=None, tool_calls=None)}, id='run-f2c7f58a-9b4e-4e0d-a3f2-bd9138178a19-0', usage_metadata={'input_tokens': 17, 'output_tokens': 15, 'total_tokens': 32})"
      ]
     },
     "execution_count": 5,
     "metadata": {},
     "output_type": "execute_result"
    }
   ],
   "source": [
    "prompt = ChatPromptTemplate.from_template(\"What is {a} + {b}\")\n",
    "llm = get_model('llama')\n",
    "\n",
    "chain = (\n",
    "    {\n",
    "        \"a\": itemgetter(\"foo\") | RunnableLambda(length_function),\n",
    "        \"b\": {\n",
    "            \"text1\": itemgetter(\"foo\"),\n",
    "            \"text2\": itemgetter(\"bar\")\n",
    "        } | RunnableLambda(multiple_length_function)\n",
    "    }\n",
    "    | prompt\n",
    "    | llm\n",
    ")\n",
    "\n",
    "chain.invoke({\"foo\": \"foo\", \"bar\": \"bar\"})"
   ]
  },
  {
   "cell_type": "markdown",
   "metadata": {},
   "source": [
    "3. 调用length_function"
   ]
  },
  {
   "cell_type": "code",
   "execution_count": 12,
   "metadata": {},
   "outputs": [
    {
     "name": "stdout",
     "output_type": "stream",
     "text": [
      "The history saving thread hit an unexpected error (OperationalError('unable to open database file')).History will not be written to the database.\n"
     ]
    },
    {
     "data": {
      "text/plain": [
       "AIMessage(content='\\nThe answer to \"What is 6 in the English word\" is \"six\".', additional_kwargs={}, response_metadata={'model': 'llama2-chinese', 'created_at': '2025-01-23T14:49:49.271235Z', 'done': True, 'done_reason': 'stop', 'total_duration': 17599019125, 'load_duration': 34493667, 'prompt_eval_count': 18, 'prompt_eval_duration': 6050000000, 'eval_count': 19, 'eval_duration': 11502000000, 'message': Message(role='assistant', content='', images=None, tool_calls=None)}, id='run-c5655b5a-c9ed-4fb8-9b1f-157cb56aff1d-0', usage_metadata={'input_tokens': 18, 'output_tokens': 19, 'total_tokens': 37})"
      ]
     },
     "execution_count": 12,
     "metadata": {},
     "output_type": "execute_result"
    }
   ],
   "source": [
    "prompt = ChatPromptTemplate.from_template(\"What is {a} in the English Word\")\n",
    "llm = get_model('llama')\n",
    "\n",
    "chain = (\n",
    "    {\n",
    "        \"a\": itemgetter(\"foo\") | RunnableLambda(length_function),\n",
    "        \"b\": {\n",
    "            \"text1\": itemgetter(\"foo\"),\n",
    "            \"text2\": itemgetter(\"bar\")\n",
    "        } | RunnableLambda(multiple_length_function)\n",
    "    }\n",
    "    | prompt\n",
    "    | llm\n",
    ")\n",
    "\n",
    "chain.invoke({\"foo\": \"foofoo\", \"bar\": \"bar1\"})"
   ]
  }
 ],
 "metadata": {
  "kernelspec": {
   "display_name": "wrenv3.10",
   "language": "python",
   "name": "python3"
  },
  "language_info": {
   "codemirror_mode": {
    "name": "ipython",
    "version": 3
   },
   "file_extension": ".py",
   "mimetype": "text/x-python",
   "name": "python",
   "nbconvert_exporter": "python",
   "pygments_lexer": "ipython3",
   "version": "3.10.16"
  }
 },
 "nbformat": 4,
 "nbformat_minor": 2
}
