{
 "cells": [
  {
   "cell_type": "markdown",
   "metadata": {},
   "source": [
    "## RunnablePassthrough's LCEL Grammar"
   ]
  },
  {
   "cell_type": "markdown",
   "metadata": {},
   "source": [
    "在复杂的 LangChain 链条中，不同的组件可能需要不同格式的数据输入。有时，我们需要在链条中传递一些原始数据，这些数据可能不是任何特定组件可以直接使用的。这时，RunnablePassthrough 就派上用场了。\n",
    "\n",
    "RunnablePassthrough 可以在链里原样传递数据，而不做任何修改，可以用于保持上下文。例如，我们可能需要在一个链条中同时处理文本和数字。文本可能需要通过一个语言模型进行处理，而数字可能需要通过另一个专门的计算组件进行处理。这时，我们可以使用 RunnablePassthrough 将原始输入数据“原样”传递给两个组件，每个组件只处理自己需要的部分。"
   ]
  },
  {
   "cell_type": "code",
   "execution_count": 6,
   "metadata": {},
   "outputs": [],
   "source": [
    "from langchain_core.runnables import RunnablePassthrough, RunnableLambda"
   ]
  },
  {
   "cell_type": "markdown",
   "metadata": {},
   "source": [
    "## 1. 基本用法\n",
    "\n",
    "通过RunnablePassthrough保存上游链的原始输入，而不是整个链的原始输入。"
   ]
  },
  {
   "cell_type": "code",
   "execution_count": null,
   "metadata": {},
   "outputs": [
    {
     "data": {
      "text/plain": [
       "{'origin': 9, 'sum': 10, 'square': 81, 'square root': 3.0}"
      ]
     },
     "execution_count": 14,
     "metadata": {},
     "output_type": "execute_result"
    }
   ],
   "source": [
    "runnable = RunnableLambda(lambda x: x * x) | {\n",
    "    \"origin\": RunnablePassthrough(), ## 这里透传的是函数(lambda x: x * x)的输出，而不是原始输入x=3\n",
    "    \"sum\": lambda x: int(x) + 1,\n",
    "    \"square\": lambda x: int(x) * x,\n",
    "    \"square root\": lambda x: int(x) ** 0.5\n",
    "}\n",
    "runnable.invoke(3)"
   ]
  },
  {
   "cell_type": "markdown",
   "metadata": {},
   "source": [
    "## 2. 通过RunnablePassthrough添加数据"
   ]
  },
  {
   "cell_type": "code",
   "execution_count": 12,
   "metadata": {},
   "outputs": [
    {
     "data": {
      "text/plain": [
       "{'origin': 25, 'sum': 26, 'square': 625, 'square root': 5.0, 'total': 681.0}"
      ]
     },
     "execution_count": 12,
     "metadata": {},
     "output_type": "execute_result"
    }
   ],
   "source": [
    "runnable = {\n",
    "    \"origin\": RunnablePassthrough(),\n",
    "    \"sum\": lambda x: int(x) + 1,\n",
    "    \"square\": lambda x: int(x) * x,\n",
    "    \"square root\": lambda x: int(x) ** 0.5\n",
    "} | RunnablePassthrough.assign(\n",
    "    total = lambda inputs: inputs[\"origin\"] + inputs[\"sum\"] + inputs[\"square\"] + inputs[\"square root\"]\n",
    ")\n",
    "\n",
    "runnable.invoke(25)"
   ]
  }
 ],
 "metadata": {
  "kernelspec": {
   "display_name": "wrenv3.10",
   "language": "python",
   "name": "python3"
  },
  "language_info": {
   "codemirror_mode": {
    "name": "ipython",
    "version": 3
   },
   "file_extension": ".py",
   "mimetype": "text/x-python",
   "name": "python",
   "nbconvert_exporter": "python",
   "pygments_lexer": "ipython3",
   "version": "3.10.16"
  }
 },
 "nbformat": 4,
 "nbformat_minor": 2
}
