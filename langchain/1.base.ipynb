{
 "cells": [
  {
   "cell_type": "markdown",
   "metadata": {},
   "source": [
    "一个简单的示例代码："
   ]
  },
  {
   "cell_type": "code",
   "execution_count": 4,
   "metadata": {},
   "outputs": [
    {
     "name": "stdout",
     "output_type": "stream",
     "text": [
      "{'history': '',\n",
      " 'input': '你好，介绍一下 LangChain。',\n",
      " 'response': '你好！LangChain 是一个用于构建基于语言模型的应用的开源框架。它旨在帮助开发者更轻松地将大型语言模型（如 OpenAI '\n",
      "             '的 GPT 系列）集成到各种应用中，从而实现更复杂的任务和功能。LangChain '\n",
      "             '的核心思想是通过“链”（Chain）的方式将多个模块组合起来，形成一个完整的流程，比如问答系统、文本生成、数据提取等。\\n'\n",
      "             '\\n'\n",
      "             'LangChain 的主要特点包括：\\n'\n",
      "             '1. **模块化设计**：LangChain 提供了多种模块，如 Prompt '\n",
      "             'Templates（提示模板）、Memory（记忆模块）、Agents（代理）等，开发者可以根据需求灵活组合。\\n'\n",
      "             '2. **支持多种语言模型**：除了 OpenAI 的 GPT 系列，LangChain 还支持其他语言模型，如 Hugging '\n",
      "             'Face 的模型等。\\n'\n",
      "             '3. **链式调用**：通过链式调用，开发者可以将多个步骤串联起来，比如先提取信息，再生成文本，最后进行总结。\\n'\n",
      "             '4. **记忆功能**：LangChain 支持记忆功能，可以在对话中保留上下文信息，从而实现更连贯的交互。\\n'\n",
      "             '5. **工具集成**：LangChain 可以与其他工具（如搜索引擎、数据库）集成，扩展语言模型的能力。\\n'\n",
      "             '\\n'\n",
      "             '如果你对 LangChain 感兴趣，可以访问它的 GitHub '\n",
      "             '仓库（https://github.com/langchain-ai/langchain）了解更多细节和示例代码！😊'}\n"
     ]
    }
   ],
   "source": [
    "from langchain import ConversationChain\n",
    "from pprint import pprint\n",
    "from chat_model_client import get_deepseek\n",
    "\n",
    "# 初始化 LLM\n",
    "llm = get_deepseek()\n",
    "\n",
    "# 创建对话链\n",
    "conversation = ConversationChain(llm=llm)\n",
    "\n",
    "# 进行对话\n",
    "response = conversation.invoke(\"你好，介绍一下 LangChain。\")\n",
    "pprint(response)"
   ]
  }
 ],
 "metadata": {
  "kernelspec": {
   "display_name": "wrenv3.10",
   "language": "python",
   "name": "python3"
  },
  "language_info": {
   "codemirror_mode": {
    "name": "ipython",
    "version": 3
   },
   "file_extension": ".py",
   "mimetype": "text/x-python",
   "name": "python",
   "nbconvert_exporter": "python",
   "pygments_lexer": "ipython3",
   "version": "3.10.16"
  }
 },
 "nbformat": 4,
 "nbformat_minor": 2
}
