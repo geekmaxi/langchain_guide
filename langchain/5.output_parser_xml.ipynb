{
 "cells": [
  {
   "cell_type": "markdown",
   "metadata": {},
   "source": [
    "## Output Parser解析器"
   ]
  },
  {
   "cell_type": "markdown",
   "metadata": {},
   "source": [
    "1. 引入库"
   ]
  },
  {
   "cell_type": "code",
   "execution_count": 14,
   "metadata": {},
   "outputs": [],
   "source": [
    "from typing import List\n",
    "from pydantic import BaseModel, Field\n",
    "from langchain_core.prompts import PromptTemplate\n",
    "from langchain_core.output_parsers import XMLOutputParser\n",
    "from pprint import pprint\n",
    "from chat_model_client import get_model"
   ]
  },
  {
   "cell_type": "markdown",
   "metadata": {},
   "source": [
    "2. 声明返回结构"
   ]
  },
  {
   "cell_type": "code",
   "execution_count": 15,
   "metadata": {},
   "outputs": [],
   "source": [
    "class Marathon(BaseModel):\n",
    "    name: str = Field(\n",
    "        default=\"\",\n",
    "        description=\"name of event\"\n",
    "    ),\n",
    "    date: str = Field(\n",
    "        default=\"\",\n",
    "        description=\"the date of event\"\n",
    "    ),\n",
    "    city: str = Field(\n",
    "        default=\"\",\n",
    "        description=\"Event host city\"\n",
    "    )"
   ]
  },
  {
   "cell_type": "markdown",
   "metadata": {},
   "source": [
    "3.解析器及prompt"
   ]
  },
  {
   "cell_type": "code",
   "execution_count": 16,
   "metadata": {},
   "outputs": [],
   "source": [
    "query = \"随机生成一个马拉松赛事，并给出比赛时间及城市\"\n",
    "parser = XMLOutputParser(pydantic_object=Marathon)\n",
    "prompt = PromptTemplate(\n",
    "    template=\"回答下面的问题：\\n{format_instructions}\\n{query}\\n如果输出的是代码块，请不要包括首尾的```符号\",\n",
    "    input_variables=[\"query\"],\n",
    "    partial_variables={\"format_instructions\": parser.get_format_instructions()},\n",
    ")"
   ]
  },
  {
   "cell_type": "markdown",
   "metadata": {},
   "source": [
    "4. Prompt"
   ]
  },
  {
   "cell_type": "code",
   "execution_count": 18,
   "metadata": {},
   "outputs": [
    {
     "name": "stdout",
     "output_type": "stream",
     "text": [
      "('回答下面的问题：\\n'\n",
      " 'The output should be formatted as a XML file.\\n'\n",
      " '1. Output should conform to the tags below.\\n'\n",
      " '2. If tags are not given, make them on your own.\\n'\n",
      " '3. Remember to always open and close all the tags.\\n'\n",
      " '\\n'\n",
      " 'As an example, for the tags [\"foo\", \"bar\", \"baz\"]:\\n'\n",
      " '1. String \"<foo>\\n'\n",
      " '   <bar>\\n'\n",
      " '      <baz></baz>\\n'\n",
      " '   </bar>\\n'\n",
      " '</foo>\" is a well-formatted instance of the schema.\\n'\n",
      " '2. String \"<foo>\\n'\n",
      " '   <bar>\\n'\n",
      " '   </foo>\" is a badly-formatted instance.\\n'\n",
      " '3. String \"<foo>\\n'\n",
      " '   <tag>\\n'\n",
      " '   </tag>\\n'\n",
      " '</foo>\" is a badly-formatted instance.\\n'\n",
      " '\\n'\n",
      " 'Here are the output tags:\\n'\n",
      " '```\\n'\n",
      " 'None\\n'\n",
      " '```\\n'\n",
      " '随机生成一个马拉松赛事，并给出比赛时间及城市\\n'\n",
      " '如果输出的是代码块，请不要包括首尾的```符号')\n"
     ]
    }
   ],
   "source": [
    "pprint(prompt.format(query=query))"
   ]
  },
  {
   "cell_type": "markdown",
   "metadata": {},
   "source": [
    "5. 解析并输出内容"
   ]
  },
  {
   "cell_type": "code",
   "execution_count": 17,
   "metadata": {},
   "outputs": [
    {
     "name": "stderr",
     "output_type": "stream",
     "text": [
      "/var/folders/5x/c0q41fpx6l540lsl42_bzk5h0000gq/T/ipykernel_61871/4044007954.py:1: UserWarning: Parameters {'presence_penalty', 'frequency_penalty', 'top_p'} should be specified explicitly. Instead they were passed in as part of `model_kwargs` parameter.\n",
      "  llm = get_model(\"openai\")\n"
     ]
    },
    {
     "data": {
      "text/plain": [
       "{'marathon': [{'event': 'City Marathon'},\n",
       "  {'date': 'October 15, 2022'},\n",
       "  {'city': 'New York City'}]}"
      ]
     },
     "execution_count": 17,
     "metadata": {},
     "output_type": "execute_result"
    }
   ],
   "source": [
    "llm = get_model(\"openai\")\n",
    "chain = prompt | llm | parser\n",
    "chain.invoke(query)"
   ]
  }
 ],
 "metadata": {
  "kernelspec": {
   "display_name": "wrenv3.10",
   "language": "python",
   "name": "python3"
  },
  "language_info": {
   "codemirror_mode": {
    "name": "ipython",
    "version": 3
   },
   "file_extension": ".py",
   "mimetype": "text/x-python",
   "name": "python",
   "nbconvert_exporter": "python",
   "pygments_lexer": "ipython3",
   "version": "3.10.16"
  }
 },
 "nbformat": 4,
 "nbformat_minor": 2
}
